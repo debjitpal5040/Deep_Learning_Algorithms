{
 "cells": [
  {
   "cell_type": "code",
   "execution_count": 1,
   "metadata": {},
   "outputs": [],
   "source": [
    "from torch import float32, max, no_grad, save\n",
    "from torch.nn import (\n",
    "    Conv2d,\n",
    "    CrossEntropyLoss,\n",
    "    Flatten,\n",
    "    Linear,\n",
    "    MaxPool2d,\n",
    "    Module,\n",
    "    ReLU,\n",
    "    Sequential,\n",
    "    Softmax,\n",
    ")\n",
    "from torch.optim import Adam\n",
    "from torch.utils.data import DataLoader, random_split\n",
    "from torchvision.datasets import CIFAR10\n",
    "from torchvision.transforms.v2 import Compose, Grayscale, ToDtype, ToImage"
   ]
  },
  {
   "cell_type": "code",
   "execution_count": 2,
   "metadata": {},
   "outputs": [
    {
     "name": "stdout",
     "output_type": "stream",
     "text": [
      "Files already downloaded and verified\n",
      "Files already downloaded and verified\n"
     ]
    }
   ],
   "source": [
    "# Define the transformation to apply to the data\n",
    "transform = Compose(\n",
    "    [ToImage(), ToDtype(float32, scale=True), Grayscale(num_output_channels=1)]\n",
    ")\n",
    "\n",
    "# Load the CIFAR10 dataset\n",
    "train_data = CIFAR10(\"cifar10_data\", download=True, train=True, transform=transform)\n",
    "test_data = CIFAR10(\"cifar10_data\", download=True, train=False, transform=transform)\n",
    "\n",
    "# Split the training set into training and validation sets\n",
    "train_size = int(0.8 * len(train_data))\n",
    "val_size = len(train_data) - train_size\n",
    "train_data, valset = random_split(train_data, [train_size, val_size])\n",
    "\n",
    "# Define the data loaders for the training, validation, and testing sets\n",
    "train_loader = DataLoader(train_data, batch_size=64, shuffle=True)\n",
    "valloader = DataLoader(valset, batch_size=64, shuffle=True)\n",
    "test_loader = DataLoader(test_data, batch_size=64, shuffle=False)"
   ]
  },
  {
   "cell_type": "code",
   "execution_count": 3,
   "metadata": {},
   "outputs": [],
   "source": [
    "# device = device(\"mps\")"
   ]
  },
  {
   "cell_type": "code",
   "execution_count": 4,
   "metadata": {},
   "outputs": [],
   "source": [
    "class CNN(Module):\n",
    "    def __init__(self):\n",
    "        super(CNN, self).__init__()\n",
    "        self.layers = Sequential(\n",
    "            Conv2d(1, 32, kernel_size=3, padding=\"same\", stride=1),\n",
    "            ReLU(inplace=True),\n",
    "            MaxPool2d(kernel_size=2, stride=2),\n",
    "            Conv2d(32, 64, kernel_size=3, padding=\"same\", stride=1),\n",
    "            ReLU(inplace=True),\n",
    "            MaxPool2d(kernel_size=2, stride=2),\n",
    "            Flatten(),\n",
    "            Linear(32 * 16 * 16, 128),\n",
    "            ReLU(inplace=True),\n",
    "            Linear(128, 10),\n",
    "            Softmax(dim=1),\n",
    "        )\n",
    "\n",
    "    def forward(self, x):\n",
    "        x = self.layers(x)\n",
    "        return x"
   ]
  },
  {
   "cell_type": "code",
   "execution_count": 5,
   "metadata": {},
   "outputs": [],
   "source": [
    "# model = CNN().to(device)"
   ]
  },
  {
   "cell_type": "code",
   "execution_count": 6,
   "metadata": {},
   "outputs": [
    {
     "name": "stdout",
     "output_type": "stream",
     "text": [
      "Epoch [1/5], Loss: 2.1383\n",
      "Epoch [2/5], Loss: 2.0655\n",
      "Epoch [3/5], Loss: 2.1464\n",
      "Epoch [4/5], Loss: 1.9788\n",
      "Epoch [5/5], Loss: 1.7016\n"
     ]
    }
   ],
   "source": [
    "# Define hyperparameters\n",
    "epochs = 10\n",
    "\n",
    "# Initialize model and optimizer\n",
    "model = CNN()\n",
    "optimizer = Adam(model.parameters())\n",
    "\n",
    "# Define loss function\n",
    "criterion = CrossEntropyLoss()\n",
    "# Train the model\n",
    "for epoch in range(epochs):\n",
    "    for images, labels in train_loader:\n",
    "        # Forward pass\n",
    "        outputs = model(images)\n",
    "        loss = criterion(outputs, labels)\n",
    "\n",
    "        # Backward pass and optimize\n",
    "        optimizer.zero_grad()\n",
    "        loss.backward()\n",
    "        optimizer.step()\n",
    "    print(f\"Epoch [{epoch+1}/{epochs}], Loss: {loss.item():.4f}\")\n",
    "\n",
    "save(model.state_dict(), \"../../../Models/cifar10_cnn.pth\")"
   ]
  },
  {
   "cell_type": "code",
   "execution_count": 7,
   "metadata": {},
   "outputs": [
    {
     "name": "stdout",
     "output_type": "stream",
     "text": [
      "Test Accuracy: 0.4573\n"
     ]
    }
   ],
   "source": [
    "model.eval()\n",
    "\n",
    "# Track test accuracy\n",
    "correct = 0\n",
    "total = 0\n",
    "\n",
    "with no_grad():\n",
    "    for images, labels in test_loader:\n",
    "        outputs = model(images)\n",
    "        _, predicted = max(outputs.data, 1)\n",
    "        total += labels.size(0)\n",
    "        correct += (predicted == labels).sum().item()\n",
    "\n",
    "print(f\"Test Accuracy: {(correct / total):.4f}\")"
   ]
  }
 ],
 "metadata": {
  "kernelspec": {
   "display_name": "Python 3",
   "language": "python",
   "name": "python3"
  },
  "language_info": {
   "codemirror_mode": {
    "name": "ipython",
    "version": 3
   },
   "file_extension": ".py",
   "mimetype": "text/x-python",
   "name": "python",
   "nbconvert_exporter": "python",
   "pygments_lexer": "ipython3",
   "version": "3.12.2"
  },
  "orig_nbformat": 4
 },
 "nbformat": 4,
 "nbformat_minor": 2
}

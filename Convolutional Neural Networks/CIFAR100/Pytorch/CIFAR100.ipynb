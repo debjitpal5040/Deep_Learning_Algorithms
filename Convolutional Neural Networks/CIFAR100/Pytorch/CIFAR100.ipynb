{
 "cells": [
  {
   "cell_type": "code",
   "execution_count": 1,
   "metadata": {},
   "outputs": [],
   "source": [
    "from torch import float32, max, no_grad, save, device\n",
    "from torch.backends import mps\n",
    "from torch.nn import (\n",
    "    Conv2d,\n",
    "    CrossEntropyLoss,\n",
    "    Flatten,\n",
    "    Linear,\n",
    "    MaxPool2d,\n",
    "    Module,\n",
    "    ReLU,\n",
    "    Sequential,\n",
    "    Softmax,\n",
    ")\n",
    "from torch.optim import Adam\n",
    "from torch.utils.data import DataLoader, random_split\n",
    "from torchvision.datasets import CIFAR100\n",
    "from torchvision.transforms.v2 import Compose, Normalize, ToDtype, ToImage"
   ]
  },
  {
   "cell_type": "code",
   "execution_count": 2,
   "metadata": {},
   "outputs": [
    {
     "name": "stdout",
     "output_type": "stream",
     "text": [
      "Files already downloaded and verified\n",
      "Files already downloaded and verified\n"
     ]
    }
   ],
   "source": [
    "# Define the transformation to apply to the data\n",
    "transform = Compose(\n",
    "    [\n",
    "        ToImage(),\n",
    "        ToDtype(float32, scale=True),\n",
    "        Normalize((0.5, 0.5, 0.5), (0.5, 0.5, 0.5)),\n",
    "    ]\n",
    ")\n",
    "\n",
    "# Load the CIFAR10 dataset\n",
    "train_data = CIFAR100(\"cifar100_data\", download=True, train=True, transform=transform)\n",
    "test_data = CIFAR100(\"cifar100_data\", download=True, train=False, transform=transform)\n",
    "\n",
    "# Split the training set into training and validation sets\n",
    "train_size = int(0.8 * len(train_data))\n",
    "val_size = len(train_data) - train_size\n",
    "train_data, val_data = random_split(train_data, [train_size, val_size])\n",
    "\n",
    "# Define the data loaders for the training, validation, and testing sets\n",
    "train_loader = DataLoader(train_data, batch_size=64, shuffle=True)\n",
    "val_loader = DataLoader(val_data, batch_size=64, shuffle=False)\n",
    "test_loader = DataLoader(test_data, batch_size=64, shuffle=False)"
   ]
  },
  {
   "cell_type": "code",
   "execution_count": 3,
   "metadata": {},
   "outputs": [],
   "source": [
    "class CNN(Module):\n",
    "    def __init__(self):\n",
    "        super(CNN, self).__init__()\n",
    "        self.layers = Sequential(\n",
    "            Conv2d(3, 32, kernel_size=3, padding=\"same\", stride=1),  # 32, 32, 32\n",
    "            ReLU(inplace=True),\n",
    "            MaxPool2d(kernel_size=2, stride=2),  # 16 16 32\n",
    "            Conv2d(32, 64, kernel_size=3, padding=\"same\", stride=1),  # 16 16 64\n",
    "            ReLU(inplace=True),\n",
    "            MaxPool2d(kernel_size=2, stride=2),  # 8 8 64\n",
    "            Flatten(),\n",
    "            Linear(64 * 8 * 8, 128),\n",
    "            ReLU(inplace=True),\n",
    "            Linear(128, 100),\n",
    "            Softmax(dim=1),\n",
    "        )\n",
    "\n",
    "    def forward(self, x):\n",
    "        x = self.layers(x)\n",
    "        return x"
   ]
  },
  {
   "cell_type": "code",
   "execution_count": 4,
   "metadata": {},
   "outputs": [],
   "source": [
    "device = device(\"mps\" if mps.is_available() else \"cpu\")\n",
    "model = CNN().to(device)"
   ]
  },
  {
   "cell_type": "code",
   "execution_count": 5,
   "metadata": {},
   "outputs": [
    {
     "data": {
      "text/plain": [
       "device(type='mps')"
      ]
     },
     "execution_count": 5,
     "metadata": {},
     "output_type": "execute_result"
    }
   ],
   "source": [
    "device"
   ]
  },
  {
   "cell_type": "code",
   "execution_count": 6,
   "metadata": {},
   "outputs": [],
   "source": [
    "# Define hyperparameters\n",
    "epochs = 10\n",
    "\n",
    "# Initialize optimizer\n",
    "optimizer = Adam(model.parameters())\n",
    "\n",
    "# Define loss function\n",
    "criterion = CrossEntropyLoss()"
   ]
  },
  {
   "cell_type": "code",
   "execution_count": 7,
   "metadata": {},
   "outputs": [
    {
     "name": "stdout",
     "output_type": "stream",
     "text": [
      "Epoch [1/10], Loss: 4.5446\n",
      "Epoch [2/10], Loss: 4.6121\n",
      "Epoch [3/10], Loss: 4.4870\n",
      "Epoch [4/10], Loss: 4.5136\n",
      "Epoch [5/10], Loss: 4.5194\n",
      "Epoch [6/10], Loss: 4.5656\n",
      "Epoch [7/10], Loss: 4.5799\n",
      "Epoch [8/10], Loss: 4.4741\n",
      "Epoch [9/10], Loss: 4.4429\n",
      "Epoch [10/10], Loss: 4.5024\n"
     ]
    }
   ],
   "source": [
    "# Train the model\n",
    "model.train()\n",
    "for epoch in range(epochs):\n",
    "    for images, labels in train_loader:\n",
    "        # Forward pass\n",
    "        images, labels = images.to(device), labels.to(device)\n",
    "        optimizer.zero_grad()\n",
    "        outputs = model(images)\n",
    "        loss = criterion(outputs, labels)\n",
    "        # Backward pass and optimize\n",
    "        loss.backward()\n",
    "        optimizer.step()\n",
    "    print(f\"Epoch [{epoch+1}/{epochs}], Loss: {loss.item():.4f}\")\n",
    "\n",
    "save(model.state_dict(), \"../../../Models/cifar100_cnn.pth\")"
   ]
  },
  {
   "cell_type": "code",
   "execution_count": 8,
   "metadata": {},
   "outputs": [
    {
     "name": "stdout",
     "output_type": "stream",
     "text": [
      "Validation Accuracy: 0.1170\n"
     ]
    }
   ],
   "source": [
    "model.eval()\n",
    "\n",
    "# Track validation accuracy\n",
    "correct = 0\n",
    "total = 0\n",
    "\n",
    "with no_grad():\n",
    "    for images, labels in val_loader:\n",
    "        images, labels = images.to(device), labels.to(device)\n",
    "        outputs = model(images)\n",
    "        _, predicted = max(outputs.data, 1)\n",
    "        total += labels.size(0)\n",
    "        correct += (predicted == labels).sum().item()\n",
    "\n",
    "print(f\"Validation Accuracy: {(correct / total):.4f}\")"
   ]
  },
  {
   "cell_type": "code",
   "execution_count": 9,
   "metadata": {},
   "outputs": [
    {
     "name": "stdout",
     "output_type": "stream",
     "text": [
      "Test Accuracy: 0.1194\n"
     ]
    }
   ],
   "source": [
    "model.eval()\n",
    "\n",
    "# Track test accuracy\n",
    "correct = 0\n",
    "total = 0\n",
    "\n",
    "with no_grad():\n",
    "    for images, labels in test_loader:\n",
    "        images, labels = images.to(device), labels.to(device)\n",
    "        outputs = model(images)\n",
    "        _, predicted = max(outputs.data, 1)\n",
    "        total += labels.size(0)\n",
    "        correct += (predicted == labels).sum().item()\n",
    "\n",
    "print(f\"Test Accuracy: {(correct / total):.4f}\")"
   ]
  }
 ],
 "metadata": {
  "kernelspec": {
   "display_name": "Python 3",
   "language": "python",
   "name": "python3"
  },
  "language_info": {
   "codemirror_mode": {
    "name": "ipython",
    "version": 3
   },
   "file_extension": ".py",
   "mimetype": "text/x-python",
   "name": "python",
   "nbconvert_exporter": "python",
   "pygments_lexer": "ipython3",
   "version": "3.12.3"
  }
 },
 "nbformat": 4,
 "nbformat_minor": 2
}

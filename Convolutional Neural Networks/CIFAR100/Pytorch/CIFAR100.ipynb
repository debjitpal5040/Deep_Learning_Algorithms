{
 "cells": [
  {
   "cell_type": "code",
   "execution_count": null,
   "metadata": {},
   "outputs": [],
   "source": [
    "from torch import float32, max, no_grad, save\n",
    "from torch.nn import (\n",
    "    Conv2d,\n",
    "    CrossEntropyLoss,\n",
    "    Flatten,\n",
    "    Linear,\n",
    "    MaxPool2d,\n",
    "    Module,\n",
    "    ReLU,\n",
    "    Sequential,\n",
    "    Softmax,\n",
    ")\n",
    "from torch.optim import Adam\n",
    "from torch.utils.data import DataLoader, random_split\n",
    "from torchvision.datasets import CIFAR100\n",
    "from torchvision.transforms.v2 import Compose, Grayscale, ToDtype, ToImage"
   ]
  },
  {
   "cell_type": "code",
   "execution_count": null,
   "metadata": {},
   "outputs": [],
   "source": [
    "# Define the transformation to apply to the data\n",
    "transform = Compose(\n",
    "    [ToImage(), ToDtype(float32, scale=True), Grayscale(num_output_channels=1)]\n",
    ")\n",
    "\n",
    "# Load the CIFAR10 dataset\n",
    "train_data = CIFAR100(\"cifar100_data\", download=True, train=True, transform=transform)\n",
    "test_data = CIFAR100(\"cifar100_data\", download=True, train=False, transform=transform)\n",
    "\n",
    "# Split the training set into training and validation sets\n",
    "train_size = int(0.8 * len(train_data))\n",
    "val_size = len(train_data) - train_size\n",
    "train_data, valset = random_split(train_data, [train_size, val_size])\n",
    "\n",
    "# Define the data loaders for the training, validation, and testing sets\n",
    "train_loader = DataLoader(train_data, batch_size=64, shuffle=True)\n",
    "valloader = DataLoader(valset, batch_size=64, shuffle=True)\n",
    "test_loader = DataLoader(test_data, batch_size=64, shuffle=False)"
   ]
  },
  {
   "cell_type": "code",
   "execution_count": null,
   "metadata": {},
   "outputs": [],
   "source": [
    "class CNN(Module):\n",
    "    def __init__(self):\n",
    "        super(CNN, self).__init__()\n",
    "        self.layers = Sequential(\n",
    "            Conv2d(1, 32, kernel_size=3, padding=\"same\", stride=1),\n",
    "            ReLU(inplace=True),\n",
    "            MaxPool2d(kernel_size=2, stride=2),\n",
    "            Conv2d(32, 64, kernel_size=3, padding=\"same\", stride=1),\n",
    "            ReLU(inplace=True),\n",
    "            MaxPool2d(kernel_size=2, stride=2),\n",
    "            Flatten(),\n",
    "            Linear(32 * 16 * 16, 128),\n",
    "            ReLU(inplace=True),\n",
    "            Linear(128, 100),\n",
    "            Softmax(dim=1),\n",
    "        )\n",
    "\n",
    "    def forward(self, x):\n",
    "        x = self.layers(x)\n",
    "        return x"
   ]
  },
  {
   "cell_type": "code",
   "execution_count": null,
   "metadata": {},
   "outputs": [],
   "source": [
    "# Define hyperparameters\n",
    "epochs = 10\n",
    "\n",
    "# Initialize model and optimizer\n",
    "model = CNN()\n",
    "optimizer = Adam(model.parameters())\n",
    "\n",
    "# Define loss function\n",
    "criterion = CrossEntropyLoss()\n",
    "# Train the model\n",
    "for epoch in range(epochs):\n",
    "    for images, labels in train_loader:\n",
    "        # Forward pass\n",
    "        outputs = model(images)\n",
    "        loss = criterion(outputs, labels)\n",
    "\n",
    "        # Backward pass and optimize\n",
    "        optimizer.zero_grad()\n",
    "        loss.backward()\n",
    "        optimizer.step()\n",
    "    print(f\"Epoch [{epoch+1}/{epochs}], Loss: {loss.item():.4f}\")\n",
    "\n",
    "save(model.state_dict(), \"../../../Models/cifar100_cnn.pth\")"
   ]
  },
  {
   "cell_type": "code",
   "execution_count": null,
   "metadata": {},
   "outputs": [],
   "source": [
    "model.eval()\n",
    "\n",
    "# Track test accuracy\n",
    "correct = 0\n",
    "total = 0\n",
    "\n",
    "with no_grad():\n",
    "    for images, labels in test_loader:\n",
    "        outputs = model(images)\n",
    "        _, predicted = max(outputs.data, 1)\n",
    "        total += labels.size(0)\n",
    "        correct += (predicted == labels).sum().item()\n",
    "\n",
    "print(f\"Test Accuracy: {(correct / total):.4f}\")"
   ]
  }
 ],
 "metadata": {
  "language_info": {
   "name": "python"
  }
 },
 "nbformat": 4,
 "nbformat_minor": 2
}

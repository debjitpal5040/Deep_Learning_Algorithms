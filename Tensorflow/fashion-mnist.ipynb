{
 "cells": [
  {
   "cell_type": "markdown",
   "metadata": {},
   "source": [
    "# FASHION-MNIST DATASET\n"
   ]
  },
  {
   "cell_type": "code",
   "execution_count": 1,
   "metadata": {},
   "outputs": [],
   "source": [
    "import matplotlib.pyplot as plt\n",
    "import numpy as np\n",
    "from keras.callbacks import CSVLogger, ModelCheckpoint, TensorBoard\n",
    "from keras.datasets import fashion_mnist\n",
    "from keras.layers import Conv2D, Dense, Dropout, Flatten, MaxPooling2D\n",
    "from keras.models import Sequential\n",
    "from keras.optimizers.legacy import SGD"
   ]
  },
  {
   "cell_type": "code",
   "execution_count": 2,
   "metadata": {},
   "outputs": [],
   "source": [
    "(X_train, y_train), (X_test, y_test) = fashion_mnist.load_data()"
   ]
  },
  {
   "cell_type": "markdown",
   "metadata": {},
   "source": [
    "Fashion-MNIST is a dataset of images consisting of 10 different fashion categories, with 60,000 training images and 10,000 test images. Each image is a 28x28 grayscale image, and the goal is to correctly classify each image into its corresponding fashion category. The Fashion-MNIST dataset is often used as a drop-in replacement for the original MNIST dataset, as it is more challenging and better represents real-world computer vision tasks.\n"
   ]
  },
  {
   "cell_type": "code",
   "execution_count": 3,
   "metadata": {},
   "outputs": [
    {
     "data": {
      "text/plain": [
       "(60000, 28, 28)"
      ]
     },
     "execution_count": 3,
     "metadata": {},
     "output_type": "execute_result"
    }
   ],
   "source": [
    "X_train.shape"
   ]
  },
  {
   "cell_type": "code",
   "execution_count": 4,
   "metadata": {},
   "outputs": [
    {
     "data": {
      "text/plain": [
       "(10000, 28, 28)"
      ]
     },
     "execution_count": 4,
     "metadata": {},
     "output_type": "execute_result"
    }
   ],
   "source": [
    "X_test.shape"
   ]
  },
  {
   "cell_type": "code",
   "execution_count": 5,
   "metadata": {},
   "outputs": [
    {
     "data": {
      "text/plain": [
       "(60000,)"
      ]
     },
     "execution_count": 5,
     "metadata": {},
     "output_type": "execute_result"
    }
   ],
   "source": [
    "y_train.shape"
   ]
  },
  {
   "cell_type": "code",
   "execution_count": 6,
   "metadata": {},
   "outputs": [
    {
     "data": {
      "text/plain": [
       "(10000,)"
      ]
     },
     "execution_count": 6,
     "metadata": {},
     "output_type": "execute_result"
    }
   ],
   "source": [
    "y_test.shape"
   ]
  },
  {
   "cell_type": "code",
   "execution_count": 7,
   "metadata": {},
   "outputs": [],
   "source": [
    "class_names = [\n",
    "    \"T-shirt/top\",\n",
    "    \"Trouser\",\n",
    "    \"Pullover\",\n",
    "    \"Dress\",\n",
    "    \"Coat\",\n",
    "    \"Sandal\",\n",
    "    \"Shirt\",\n",
    "    \"Sneaker\",\n",
    "    \"Bag\",\n",
    "    \"Ankle boot\",\n",
    "]"
   ]
  },
  {
   "cell_type": "code",
   "execution_count": 8,
   "metadata": {},
   "outputs": [],
   "source": [
    "def plot_sample(index):\n",
    "    plt.figure(figsize=(15, 2))\n",
    "    plt.imshow(X_train[index])\n",
    "    plt.title(\"Label: {}\".format(class_names[y_train[index]]))"
   ]
  },
  {
   "cell_type": "code",
   "execution_count": 9,
   "metadata": {},
   "outputs": [
    {
     "data": {
      "image/png": "[encoded data removed]",
      "text/plain": [
       "<Figure size 1500x200 with 1 Axes>"
      ]
     },
     "metadata": {},
     "output_type": "display_data"
    }
   ],
   "source": [
    "plot_sample(101)"
   ]
  },
  {
   "cell_type": "code",
   "execution_count": 10,
   "metadata": {},
   "outputs": [],
   "source": [
    "X_train = X_train / 255.0\n",
    "X_test = X_test / 255.0"
   ]
  },
  {
   "cell_type": "code",
   "execution_count": 11,
   "metadata": {},
   "outputs": [
    {
     "name": "stderr",
     "output_type": "stream",
     "text": [
      "2023-08-07 01:11:30.505765: I metal_plugin/src/device/metal_device.cc:1154] Metal device set to: Apple M1\n",
      "2023-08-07 01:11:30.505812: I metal_plugin/src/device/metal_device.cc:296] systemMemory: 8.00 GB\n",
      "2023-08-07 01:11:30.505833: I metal_plugin/src/device/metal_device.cc:313] maxCacheSize: 2.67 GB\n",
      "2023-08-07 01:11:30.506130: I tensorflow/core/common_runtime/pluggable_device/pluggable_device_factory.cc:303] Could not identify NUMA node of platform GPU ID 0, defaulting to 0. Your kernel may not have been built with NUMA support.\n",
      "2023-08-07 01:11:30.506157: I tensorflow/core/common_runtime/pluggable_device/pluggable_device_factory.cc:269] Created TensorFlow device (/job:localhost/replica:0/task:0/device:GPU:0 with 0 MB memory) -> physical PluggableDevice (device: 0, name: METAL, pci bus id: <undefined>)\n"
     ]
    }
   ],
   "source": [
    "ann = Sequential(\n",
    "    layers=[\n",
    "        Flatten(input_shape=(28, 28), name=\"input_layer\"),\n",
    "        Dense(128, activation=\"relu\", name=\"hidden_layer_1\"),\n",
    "        Dropout(0.2, name=\"dropout_layer_1\"),\n",
    "        Dense(64, activation=\"relu\", name=\"hidden_layer_2\"),\n",
    "        Dropout(0.2, name=\"dropout_layer_2\"),\n",
    "        Dense(10, activation=\"softmax\", name=\"output_layer\"),\n",
    "    ],\n",
    "    name=\"ann\",\n",
    ")"
   ]
  },
  {
   "cell_type": "code",
   "execution_count": 12,
   "metadata": {},
   "outputs": [
    {
     "data": {
      "text/plain": [
       "[<keras.src.layers.reshaping.flatten.Flatten at 0x28f73b850>,\n",
       " <keras.src.layers.core.dense.Dense at 0x28f494890>,\n",
       " <keras.src.layers.regularization.dropout.Dropout at 0x28f70d910>,\n",
       " <keras.src.layers.core.dense.Dense at 0x28f6f9a90>,\n",
       " <keras.src.layers.regularization.dropout.Dropout at 0x28f705590>,\n",
       " <keras.src.layers.core.dense.Dense at 0x28f6f8fd0>]"
      ]
     },
     "execution_count": 12,
     "metadata": {},
     "output_type": "execute_result"
    }
   ],
   "source": [
    "ann.layers"
   ]
  },
  {
   "cell_type": "code",
   "execution_count": 13,
   "metadata": {},
   "outputs": [
    {
     "name": "stdout",
     "output_type": "stream",
     "text": [
      "Model: \"ann\"\n",
      "_________________________________________________________________\n",
      " Layer (type)                Output Shape              Param #   \n",
      "=================================================================\n",
      " input_layer (Flatten)       (None, 784)               0         \n",
      "                                                                 \n",
      " hidden_layer_1 (Dense)      (None, 128)               100480    \n",
      "                                                                 \n",
      " dropout_layer_1 (Dropout)   (None, 128)               0         \n",
      "                                                                 \n",
      " hidden_layer_2 (Dense)      (None, 64)                8256      \n",
      "                                                                 \n",
      " dropout_layer_2 (Dropout)   (None, 64)                0         \n",
      "                                                                 \n",
      " output_layer (Dense)        (None, 10)                650       \n",
      "                                                                 \n",
      "=================================================================\n",
      "Total params: 109386 (427.29 KB)\n",
      "Trainable params: 109386 (427.29 KB)\n",
      "Non-trainable params: 0 (0.00 Byte)\n",
      "_________________________________________________________________\n"
     ]
    }
   ],
   "source": [
    "ann.summary()"
   ]
  },
  {
   "cell_type": "code",
   "execution_count": 14,
   "metadata": {},
   "outputs": [],
   "source": [
    "optimizer = SGD(learning_rate=0.001, momentum=0.9)\n",
    "epochs = 10\n",
    "ann.compile(\n",
    "    optimizer=optimizer, loss=\"sparse_categorical_crossentropy\", metrics=[\"accuracy\"]\n",
    ")"
   ]
  },
  {
   "cell_type": "code",
   "execution_count": 15,
   "metadata": {},
   "outputs": [
    {
     "name": "stdout",
     "output_type": "stream",
     "text": [
      "Epoch 1/10\n"
     ]
    },
    {
     "name": "stderr",
     "output_type": "stream",
     "text": [
      "2023-08-07 01:11:31.312830: I tensorflow/core/grappler/optimizers/custom_graph_optimizer_registry.cc:114] Plugin optimizer for device_type GPU is enabled.\n"
     ]
    },
    {
     "name": "stdout",
     "output_type": "stream",
     "text": [
      "422/422 [==============================] - ETA: 0s - loss: 1.3806 - accuracy: 0.5024"
     ]
    },
    {
     "name": "stderr",
     "output_type": "stream",
     "text": [
      "2023-08-07 01:11:35.919002: I tensorflow/core/grappler/optimizers/custom_graph_optimizer_registry.cc:114] Plugin optimizer for device_type GPU is enabled.\n"
     ]
    },
    {
     "name": "stdout",
     "output_type": "stream",
     "text": [
      "INFO:tensorflow:Assets written to: ../Models/fashion-mnist_ann/assets\n"
     ]
    },
    {
     "name": "stderr",
     "output_type": "stream",
     "text": [
      "INFO:tensorflow:Assets written to: ../Models/fashion-mnist_ann/assets\n"
     ]
    },
    {
     "name": "stdout",
     "output_type": "stream",
     "text": [
      "422/422 [==============================] - 5s 11ms/step - loss: 1.3806 - accuracy: 0.5024 - val_loss: 0.8061 - val_accuracy: 0.7115\n",
      "Epoch 2/10\n",
      "416/422 [============================>.] - ETA: 0s - loss: 0.8716 - accuracy: 0.6811INFO:tensorflow:Assets written to: ../Models/fashion-mnist_ann/assets\n"
     ]
    },
    {
     "name": "stderr",
     "output_type": "stream",
     "text": [
      "INFO:tensorflow:Assets written to: ../Models/fashion-mnist_ann/assets\n"
     ]
    },
    {
     "name": "stdout",
     "output_type": "stream",
     "text": [
      "422/422 [==============================] - 3s 7ms/step - loss: 0.8709 - accuracy: 0.6815 - val_loss: 0.6702 - val_accuracy: 0.7578\n",
      "Epoch 3/10\n",
      "415/422 [============================>.] - ETA: 0s - loss: 0.7492 - accuracy: 0.7297INFO:tensorflow:Assets written to: ../Models/fashion-mnist_ann/assets\n"
     ]
    },
    {
     "name": "stderr",
     "output_type": "stream",
     "text": [
      "INFO:tensorflow:Assets written to: ../Models/fashion-mnist_ann/assets\n"
     ]
    },
    {
     "name": "stdout",
     "output_type": "stream",
     "text": [
      "422/422 [==============================] - 3s 8ms/step - loss: 0.7490 - accuracy: 0.7300 - val_loss: 0.6085 - val_accuracy: 0.7860\n",
      "Epoch 4/10\n",
      "418/422 [============================>.] - ETA: 0s - loss: 0.6819 - accuracy: 0.7587INFO:tensorflow:Assets written to: ../Models/fashion-mnist_ann/assets\n"
     ]
    },
    {
     "name": "stderr",
     "output_type": "stream",
     "text": [
      "INFO:tensorflow:Assets written to: ../Models/fashion-mnist_ann/assets\n"
     ]
    },
    {
     "name": "stdout",
     "output_type": "stream",
     "text": [
      "422/422 [==============================] - 3s 8ms/step - loss: 0.6816 - accuracy: 0.7588 - val_loss: 0.5762 - val_accuracy: 0.7948\n",
      "Epoch 5/10\n",
      "421/422 [============================>.] - ETA: 0s - loss: 0.6407 - accuracy: 0.7751INFO:tensorflow:Assets written to: ../Models/fashion-mnist_ann/assets\n"
     ]
    },
    {
     "name": "stderr",
     "output_type": "stream",
     "text": [
      "INFO:tensorflow:Assets written to: ../Models/fashion-mnist_ann/assets\n"
     ]
    },
    {
     "name": "stdout",
     "output_type": "stream",
     "text": [
      "422/422 [==============================] - 3s 7ms/step - loss: 0.6407 - accuracy: 0.7752 - val_loss: 0.5518 - val_accuracy: 0.8093\n",
      "Epoch 6/10\n",
      "422/422 [==============================] - ETA: 0s - loss: 0.6141 - accuracy: 0.7849INFO:tensorflow:Assets written to: ../Models/fashion-mnist_ann/assets\n"
     ]
    },
    {
     "name": "stderr",
     "output_type": "stream",
     "text": [
      "INFO:tensorflow:Assets written to: ../Models/fashion-mnist_ann/assets\n"
     ]
    },
    {
     "name": "stdout",
     "output_type": "stream",
     "text": [
      "422/422 [==============================] - 3s 6ms/step - loss: 0.6141 - accuracy: 0.7849 - val_loss: 0.5327 - val_accuracy: 0.8187\n",
      "Epoch 7/10\n",
      "418/422 [============================>.] - ETA: 0s - loss: 0.5910 - accuracy: 0.7954INFO:tensorflow:Assets written to: ../Models/fashion-mnist_ann/assets\n"
     ]
    },
    {
     "name": "stderr",
     "output_type": "stream",
     "text": [
      "INFO:tensorflow:Assets written to: ../Models/fashion-mnist_ann/assets\n"
     ]
    },
    {
     "name": "stdout",
     "output_type": "stream",
     "text": [
      "422/422 [==============================] - 3s 7ms/step - loss: 0.5911 - accuracy: 0.7951 - val_loss: 0.5223 - val_accuracy: 0.8188\n",
      "Epoch 8/10\n",
      "420/422 [============================>.] - ETA: 0s - loss: 0.5780 - accuracy: 0.7978INFO:tensorflow:Assets written to: ../Models/fashion-mnist_ann/assets\n"
     ]
    },
    {
     "name": "stderr",
     "output_type": "stream",
     "text": [
      "INFO:tensorflow:Assets written to: ../Models/fashion-mnist_ann/assets\n"
     ]
    },
    {
     "name": "stdout",
     "output_type": "stream",
     "text": [
      "422/422 [==============================] - 3s 6ms/step - loss: 0.5782 - accuracy: 0.7977 - val_loss: 0.5111 - val_accuracy: 0.8250\n",
      "Epoch 9/10\n",
      "414/422 [============================>.] - ETA: 0s - loss: 0.5654 - accuracy: 0.8044INFO:tensorflow:Assets written to: ../Models/fashion-mnist_ann/assets\n"
     ]
    },
    {
     "name": "stderr",
     "output_type": "stream",
     "text": [
      "INFO:tensorflow:Assets written to: ../Models/fashion-mnist_ann/assets\n"
     ]
    },
    {
     "name": "stdout",
     "output_type": "stream",
     "text": [
      "422/422 [==============================] - 3s 7ms/step - loss: 0.5648 - accuracy: 0.8044 - val_loss: 0.5010 - val_accuracy: 0.8272\n",
      "Epoch 10/10\n",
      "419/422 [============================>.] - ETA: 0s - loss: 0.5547 - accuracy: 0.8072INFO:tensorflow:Assets written to: ../Models/fashion-mnist_ann/assets\n"
     ]
    },
    {
     "name": "stderr",
     "output_type": "stream",
     "text": [
      "INFO:tensorflow:Assets written to: ../Models/fashion-mnist_ann/assets\n"
     ]
    },
    {
     "name": "stdout",
     "output_type": "stream",
     "text": [
      "422/422 [==============================] - 3s 7ms/step - loss: 0.5538 - accuracy: 0.8076 - val_loss: 0.4937 - val_accuracy: 0.8273\n"
     ]
    }
   ],
   "source": [
    "ann_checkpoint_callback = ModelCheckpoint(\n",
    "    filepath=\"../Models/fashion-mnist_ann\",\n",
    "    monitor=\"val_accuracy\",\n",
    "    save_best_only=True,\n",
    ")\n",
    "ann_tensorboard_callback = TensorBoard(\n",
    "    log_dir=\"../Logs/fashion-mnist_ann_logs\", histogram_freq=1, write_images=True\n",
    ")\n",
    "ann_csvlogger_callback = CSVLogger(\"../Logs/fashion-mnist_ann_logs.csv\")\n",
    "\n",
    "ann_history = ann.fit(\n",
    "    X_train,\n",
    "    y_train,\n",
    "    batch_size=128,\n",
    "    epochs=epochs,\n",
    "    validation_split=0.1,\n",
    "    callbacks=[\n",
    "        ann_checkpoint_callback,\n",
    "        ann_tensorboard_callback,\n",
    "        ann_csvlogger_callback,\n",
    "    ],\n",
    ")"
   ]
  },
  {
   "cell_type": "code",
   "execution_count": 16,
   "metadata": {},
   "outputs": [
    {
     "name": "stdout",
     "output_type": "stream",
     "text": [
      "Training loss: 0.7224665999412536\n",
      "Validation loss: 0.5773490577936172\n",
      "0.743750 Training accuracy with a standard deviation of 0.088596\n",
      "0.797650 Validation accuracy with a standard deviation of 0.035606\n"
     ]
    }
   ],
   "source": [
    "ann_train_loss = ann_history.history[\"loss\"]\n",
    "ann_train_acc = ann_history.history[\"accuracy\"]\n",
    "ann_val_acc = ann_history.history[\"val_accuracy\"]\n",
    "ann_val_loss = ann_history.history[\"val_loss\"]\n",
    "\n",
    "print(\"Training loss:\", np.mean(ann_train_loss))\n",
    "print(\"Validation loss:\", np.mean(ann_val_loss))\n",
    "print(\n",
    "    \"%f Training accuracy with a standard deviation of %f\"\n",
    "    % (np.mean(ann_train_acc), np.std(ann_train_acc))\n",
    ")\n",
    "print(\n",
    "    \"%f Validation accuracy with a standard deviation of %f\"\n",
    "    % (np.mean(ann_val_acc), np.std(ann_val_acc))\n",
    ")"
   ]
  },
  {
   "cell_type": "code",
   "execution_count": 17,
   "metadata": {},
   "outputs": [
    {
     "data": {
      "image/png": "[encoded data removed]",
      "text/plain": [
       "<Figure size 1200x1000 with 2 Axes>"
      ]
     },
     "metadata": {},
     "output_type": "display_data"
    }
   ],
   "source": [
    "epochs_range = range(epochs)\n",
    "\n",
    "# Plot the training and validation accuracy\n",
    "plt.figure(figsize=(12, 10))\n",
    "plt.subplot(1, 2, 1)\n",
    "plt.plot(epochs_range, ann_train_acc, label=\"Training Accuracy\")\n",
    "plt.plot(epochs_range, ann_val_acc, label=\"Validation Accuracy\")\n",
    "plt.legend(loc=\"best\")\n",
    "plt.title(\"Training and Validation Accuracy\")\n",
    "\n",
    "# Plot the training and validation loss\n",
    "plt.subplot(1, 2, 2)\n",
    "plt.plot(epochs_range, ann_train_loss, label=\"Training Loss\")\n",
    "plt.plot(epochs_range, ann_val_loss, label=\"Validation Loss\")\n",
    "plt.legend(loc=\"best\")\n",
    "plt.title(\"Training and Validation Loss\")\n",
    "\n",
    "plt.savefig(\"../Images/fashion-mnist_ann_acc_loss.png\", bbox_inches=\"tight\")"
   ]
  },
  {
   "cell_type": "code",
   "execution_count": 18,
   "metadata": {},
   "outputs": [
    {
     "name": "stdout",
     "output_type": "stream",
     "text": [
      "313/313 [==============================] - 1s 4ms/step - loss: 0.5250 - accuracy: 0.8174\n",
      "Test loss: 0.5250415205955505\n",
      "Test accuracy: 0.8173999786376953\n"
     ]
    }
   ],
   "source": [
    "ann_test_loss, ann_test_accuracy = ann.evaluate(X_test, y_test)\n",
    "print(\"Test loss:\", ann_test_loss)\n",
    "print(\"Test accuracy:\", ann_test_accuracy)"
   ]
  },
  {
   "cell_type": "code",
   "execution_count": 19,
   "metadata": {},
   "outputs": [
    {
     "name": "stdout",
     "output_type": "stream",
     "text": [
      " 94/313 [========>.....................] - ETA: 0s"
     ]
    },
    {
     "name": "stderr",
     "output_type": "stream",
     "text": [
      "2023-08-07 01:12:04.743565: I tensorflow/core/grappler/optimizers/custom_graph_optimizer_registry.cc:114] Plugin optimizer for device_type GPU is enabled.\n"
     ]
    },
    {
     "name": "stdout",
     "output_type": "stream",
     "text": [
      "313/313 [==============================] - 1s 2ms/step\n"
     ]
    }
   ],
   "source": [
    "y_pred = ann.predict(X_test)"
   ]
  },
  {
   "cell_type": "code",
   "execution_count": 20,
   "metadata": {},
   "outputs": [],
   "source": [
    "cnn = Sequential(\n",
    "    layers=[\n",
    "        Conv2D(\n",
    "            filters=64,\n",
    "            kernel_size=(3, 3),\n",
    "            activation=\"relu\",\n",
    "            padding=\"same\",\n",
    "            input_shape=(28, 28, 1),\n",
    "            name=\"conv_layer_1\",\n",
    "        ),\n",
    "        MaxPooling2D((2, 2), name=\"pooling_layer_1\"),\n",
    "        Dropout(0.2, name=\"dropout_layer_1\"),\n",
    "        Conv2D(\n",
    "            filters=128,\n",
    "            kernel_size=(3, 3),\n",
    "            activation=\"relu\",\n",
    "            padding=\"same\",\n",
    "            name=\"conv_layer_2\",\n",
    "        ),\n",
    "        MaxPooling2D((2, 2), name=\"pooling_layer_2\"),\n",
    "        Dropout(0.2, name=\"dropout_layer_2\"),\n",
    "        Flatten(name=\"flatten_layer\"),\n",
    "        Dense(128, activation=\"relu\", name=\"dense_layer_1\"),\n",
    "        Dense(10, activation=\"softmax\", name=\"final_layer\"),\n",
    "    ],\n",
    "    name=\"cnn\",\n",
    ")"
   ]
  },
  {
   "cell_type": "code",
   "execution_count": 21,
   "metadata": {},
   "outputs": [
    {
     "data": {
      "text/plain": [
       "[<keras.src.layers.convolutional.conv2d.Conv2D at 0x29e814f90>,\n",
       " <keras.src.layers.pooling.max_pooling2d.MaxPooling2D at 0x29e93c9d0>,\n",
       " <keras.src.layers.regularization.dropout.Dropout at 0x29e927f50>,\n",
       " <keras.src.layers.convolutional.conv2d.Conv2D at 0x29e88f590>,\n",
       " <keras.src.layers.pooling.max_pooling2d.MaxPooling2D at 0x29e93e9d0>,\n",
       " <keras.src.layers.regularization.dropout.Dropout at 0x29e8c98d0>,\n",
       " <keras.src.layers.reshaping.flatten.Flatten at 0x29e95af50>,\n",
       " <keras.src.layers.core.dense.Dense at 0x29e832b90>,\n",
       " <keras.src.layers.core.dense.Dense at 0x2e8fa5e90>]"
      ]
     },
     "execution_count": 21,
     "metadata": {},
     "output_type": "execute_result"
    }
   ],
   "source": [
    "cnn.layers"
   ]
  },
  {
   "cell_type": "code",
   "execution_count": 22,
   "metadata": {},
   "outputs": [
    {
     "name": "stdout",
     "output_type": "stream",
     "text": [
      "Model: \"cnn\"\n",
      "_________________________________________________________________\n",
      " Layer (type)                Output Shape              Param #   \n",
      "=================================================================\n",
      " conv_layer_1 (Conv2D)       (None, 28, 28, 64)        640       \n",
      "                                                                 \n",
      " pooling_layer_1 (MaxPoolin  (None, 14, 14, 64)        0         \n",
      " g2D)                                                            \n",
      "                                                                 \n",
      " dropout_layer_1 (Dropout)   (None, 14, 14, 64)        0         \n",
      "                                                                 \n",
      " conv_layer_2 (Conv2D)       (None, 14, 14, 128)       73856     \n",
      "                                                                 \n",
      " pooling_layer_2 (MaxPoolin  (None, 7, 7, 128)         0         \n",
      " g2D)                                                            \n",
      "                                                                 \n",
      " dropout_layer_2 (Dropout)   (None, 7, 7, 128)         0         \n",
      "                                                                 \n",
      " flatten_layer (Flatten)     (None, 6272)              0         \n",
      "                                                                 \n",
      " dense_layer_1 (Dense)       (None, 128)               802944    \n",
      "                                                                 \n",
      " final_layer (Dense)         (None, 10)                1290      \n",
      "                                                                 \n",
      "=================================================================\n",
      "Total params: 878730 (3.35 MB)\n",
      "Trainable params: 878730 (3.35 MB)\n",
      "Non-trainable params: 0 (0.00 Byte)\n",
      "_________________________________________________________________\n"
     ]
    }
   ],
   "source": [
    "cnn.summary()"
   ]
  },
  {
   "cell_type": "code",
   "execution_count": 23,
   "metadata": {},
   "outputs": [],
   "source": [
    "cnn.compile(\n",
    "    optimizer=optimizer, loss=\"sparse_categorical_crossentropy\", metrics=[\"accuracy\"]\n",
    ")"
   ]
  },
  {
   "cell_type": "code",
   "execution_count": 24,
   "metadata": {},
   "outputs": [
    {
     "name": "stdout",
     "output_type": "stream",
     "text": [
      "Epoch 1/10\n"
     ]
    },
    {
     "name": "stderr",
     "output_type": "stream",
     "text": [
      "2023-08-07 01:12:06.066051: I tensorflow/core/grappler/optimizers/custom_graph_optimizer_registry.cc:114] Plugin optimizer for device_type GPU is enabled.\n"
     ]
    },
    {
     "name": "stdout",
     "output_type": "stream",
     "text": [
      "422/422 [==============================] - ETA: 0s - loss: 1.2731 - accuracy: 0.5522"
     ]
    },
    {
     "name": "stderr",
     "output_type": "stream",
     "text": [
      "2023-08-07 01:12:17.167969: I tensorflow/core/grappler/optimizers/custom_graph_optimizer_registry.cc:114] Plugin optimizer for device_type GPU is enabled.\n"
     ]
    },
    {
     "name": "stdout",
     "output_type": "stream",
     "text": [
      "INFO:tensorflow:Assets written to: ../Models/fashion-mnist_cnn/assets\n"
     ]
    },
    {
     "name": "stderr",
     "output_type": "stream",
     "text": [
      "INFO:tensorflow:Assets written to: ../Models/fashion-mnist_cnn/assets\n"
     ]
    },
    {
     "name": "stdout",
     "output_type": "stream",
     "text": [
      "422/422 [==============================] - 12s 27ms/step - loss: 1.2731 - accuracy: 0.5522 - val_loss: 0.7180 - val_accuracy: 0.7292\n",
      "Epoch 2/10\n",
      "422/422 [==============================] - ETA: 0s - loss: 0.6959 - accuracy: 0.7483INFO:tensorflow:Assets written to: ../Models/fashion-mnist_cnn/assets\n"
     ]
    },
    {
     "name": "stderr",
     "output_type": "stream",
     "text": [
      "INFO:tensorflow:Assets written to: ../Models/fashion-mnist_cnn/assets\n"
     ]
    },
    {
     "name": "stdout",
     "output_type": "stream",
     "text": [
      "422/422 [==============================] - 12s 28ms/step - loss: 0.6959 - accuracy: 0.7483 - val_loss: 0.6620 - val_accuracy: 0.7468\n",
      "Epoch 3/10\n",
      "422/422 [==============================] - ETA: 0s - loss: 0.6122 - accuracy: 0.7792INFO:tensorflow:Assets written to: ../Models/fashion-mnist_cnn/assets\n"
     ]
    },
    {
     "name": "stderr",
     "output_type": "stream",
     "text": [
      "INFO:tensorflow:Assets written to: ../Models/fashion-mnist_cnn/assets\n"
     ]
    },
    {
     "name": "stdout",
     "output_type": "stream",
     "text": [
      "422/422 [==============================] - 16s 37ms/step - loss: 0.6122 - accuracy: 0.7792 - val_loss: 0.5798 - val_accuracy: 0.7917\n",
      "Epoch 4/10\n",
      "422/422 [==============================] - ETA: 0s - loss: 0.5762 - accuracy: 0.7923INFO:tensorflow:Assets written to: ../Models/fashion-mnist_cnn/assets\n"
     ]
    },
    {
     "name": "stderr",
     "output_type": "stream",
     "text": [
      "INFO:tensorflow:Assets written to: ../Models/fashion-mnist_cnn/assets\n"
     ]
    },
    {
     "name": "stdout",
     "output_type": "stream",
     "text": [
      "422/422 [==============================] - 19s 45ms/step - loss: 0.5762 - accuracy: 0.7923 - val_loss: 0.5417 - val_accuracy: 0.8008\n",
      "Epoch 5/10\n",
      "422/422 [==============================] - ETA: 0s - loss: 0.5441 - accuracy: 0.8049INFO:tensorflow:Assets written to: ../Models/fashion-mnist_cnn/assets\n"
     ]
    },
    {
     "name": "stderr",
     "output_type": "stream",
     "text": [
      "INFO:tensorflow:Assets written to: ../Models/fashion-mnist_cnn/assets\n"
     ]
    },
    {
     "name": "stdout",
     "output_type": "stream",
     "text": [
      "422/422 [==============================] - 32s 76ms/step - loss: 0.5441 - accuracy: 0.8049 - val_loss: 0.5140 - val_accuracy: 0.8117\n",
      "Epoch 6/10\n",
      "422/422 [==============================] - ETA: 0s - loss: 0.5224 - accuracy: 0.8129INFO:tensorflow:Assets written to: ../Models/fashion-mnist_cnn/assets\n"
     ]
    },
    {
     "name": "stderr",
     "output_type": "stream",
     "text": [
      "INFO:tensorflow:Assets written to: ../Models/fashion-mnist_cnn/assets\n"
     ]
    },
    {
     "name": "stdout",
     "output_type": "stream",
     "text": [
      "422/422 [==============================] - 32s 75ms/step - loss: 0.5224 - accuracy: 0.8129 - val_loss: 0.4895 - val_accuracy: 0.8217\n",
      "Epoch 7/10\n",
      "422/422 [==============================] - 32s 75ms/step - loss: 0.5089 - accuracy: 0.8185 - val_loss: 0.4869 - val_accuracy: 0.8200\n",
      "Epoch 8/10\n",
      "422/422 [==============================] - ETA: 0s - loss: 0.4906 - accuracy: 0.8249INFO:tensorflow:Assets written to: ../Models/fashion-mnist_cnn/assets\n"
     ]
    },
    {
     "name": "stderr",
     "output_type": "stream",
     "text": [
      "INFO:tensorflow:Assets written to: ../Models/fashion-mnist_cnn/assets\n"
     ]
    },
    {
     "name": "stdout",
     "output_type": "stream",
     "text": [
      "422/422 [==============================] - 35s 83ms/step - loss: 0.4906 - accuracy: 0.8249 - val_loss: 0.4881 - val_accuracy: 0.8253\n",
      "Epoch 9/10\n",
      "422/422 [==============================] - ETA: 0s - loss: 0.4767 - accuracy: 0.8306INFO:tensorflow:Assets written to: ../Models/fashion-mnist_cnn/assets\n"
     ]
    },
    {
     "name": "stderr",
     "output_type": "stream",
     "text": [
      "INFO:tensorflow:Assets written to: ../Models/fashion-mnist_cnn/assets\n"
     ]
    },
    {
     "name": "stdout",
     "output_type": "stream",
     "text": [
      "422/422 [==============================] - 35s 84ms/step - loss: 0.4767 - accuracy: 0.8306 - val_loss: 0.4690 - val_accuracy: 0.8310\n",
      "Epoch 10/10\n",
      "422/422 [==============================] - ETA: 0s - loss: 0.4699 - accuracy: 0.8335INFO:tensorflow:Assets written to: ../Models/fashion-mnist_cnn/assets\n"
     ]
    },
    {
     "name": "stderr",
     "output_type": "stream",
     "text": [
      "INFO:tensorflow:Assets written to: ../Models/fashion-mnist_cnn/assets\n"
     ]
    },
    {
     "name": "stdout",
     "output_type": "stream",
     "text": [
      "422/422 [==============================] - 30s 68ms/step - loss: 0.4699 - accuracy: 0.8335 - val_loss: 0.4687 - val_accuracy: 0.8313\n"
     ]
    }
   ],
   "source": [
    "cnn_checkpoint_callback = ModelCheckpoint(\n",
    "    filepath=\"../Models/fashion-mnist_cnn\",\n",
    "    monitor=\"val_accuracy\",\n",
    "    save_best_only=True,\n",
    ")\n",
    "cnn_tensorboard_callback = TensorBoard(\n",
    "    log_dir=\"../Logs/fashion-mnist_cnn_logs\", histogram_freq=1, write_images=True\n",
    ")\n",
    "cnn_csvlogger_callback = CSVLogger(\"../Logs/fashion-mnist_cnn_logs.csv\")\n",
    "\n",
    "cnn_history = cnn.fit(\n",
    "    X_train,\n",
    "    y_train,\n",
    "    batch_size=128,\n",
    "    epochs=epochs,\n",
    "    validation_split=0.1,\n",
    "    callbacks=[\n",
    "        cnn_checkpoint_callback,\n",
    "        cnn_tensorboard_callback,\n",
    "        cnn_csvlogger_callback,\n",
    "    ],\n",
    ")"
   ]
  },
  {
   "cell_type": "code",
   "execution_count": 25,
   "metadata": {},
   "outputs": [
    {
     "name": "stdout",
     "output_type": "stream",
     "text": [
      "Training loss: 0.6170115679502487\n",
      "Validation loss: 0.5417728066444397\n",
      "0.779722 Training accuracy with a standard deviation of 0.079799\n",
      "0.800950 Validation accuracy with a standard deviation of 0.033905\n"
     ]
    }
   ],
   "source": [
    "cnn_train_acc = cnn_history.history[\"accuracy\"]\n",
    "cnn_val_acc = cnn_history.history[\"val_accuracy\"]\n",
    "cnn_train_loss = cnn_history.history[\"loss\"]\n",
    "cnn_val_loss = cnn_history.history[\"val_loss\"]\n",
    "\n",
    "\n",
    "print(\"Training loss:\", np.mean(cnn_train_loss))\n",
    "print(\"Validation loss:\", np.mean(cnn_val_loss))\n",
    "print(\n",
    "    \"%f Training accuracy with a standard deviation of %f\"\n",
    "    % (np.mean(cnn_train_acc), np.std(cnn_train_acc))\n",
    ")\n",
    "print(\n",
    "    \"%f Validation accuracy with a standard deviation of %f\"\n",
    "    % (np.mean(cnn_val_acc), np.std(cnn_val_acc))\n",
    ")"
   ]
  },
  {
   "cell_type": "code",
   "execution_count": 26,
   "metadata": {},
   "outputs": [
    {
     "data": {
      "image/png": "[encoded data removed]",
      "text/plain": [
       "<Figure size 1200x1000 with 2 Axes>"
      ]
     },
     "metadata": {},
     "output_type": "display_data"
    }
   ],
   "source": [
    "epochs_range = range(epochs)\n",
    "\n",
    "# Plot the training and validation accuracy\n",
    "plt.figure(figsize=(12, 10))\n",
    "plt.subplot(1, 2, 1)\n",
    "plt.plot(epochs_range, cnn_train_acc, label=\"Training Accuracy\")\n",
    "plt.plot(epochs_range, cnn_val_acc, label=\"Validation Accuracy\")\n",
    "plt.legend(loc=\"best\")\n",
    "plt.title(\"Training and Validation Accuracy\")\n",
    "\n",
    "# Plot the training and validation loss\n",
    "plt.subplot(1, 2, 2)\n",
    "plt.plot(epochs_range, cnn_train_loss, label=\"Training Loss\")\n",
    "plt.plot(epochs_range, cnn_val_loss, label=\"Validation Loss\")\n",
    "plt.legend(loc=\"best\")\n",
    "plt.title(\"Training and Validation Loss\")\n",
    "\n",
    "plt.savefig(\"../Images/fashion-mnist_cnn_acc_loss.png\", bbox_inches=\"tight\")"
   ]
  },
  {
   "cell_type": "code",
   "execution_count": 27,
   "metadata": {},
   "outputs": [
    {
     "name": "stdout",
     "output_type": "stream",
     "text": [
      "313/313 [==============================] - 10s 30ms/step - loss: 0.4922 - accuracy: 0.8262\n",
      "Test loss: 0.4922412633895874\n",
      "Test accuracy: 0.826200008392334\n"
     ]
    }
   ],
   "source": [
    "cnn_test_loss, cnn_test_accuracy = cnn.evaluate(X_test, y_test)\n",
    "print(\"Test loss:\", cnn_test_loss)\n",
    "print(\"Test accuracy:\", cnn_test_accuracy)"
   ]
  },
  {
   "cell_type": "code",
   "execution_count": 28,
   "metadata": {},
   "outputs": [
    {
     "name": "stderr",
     "output_type": "stream",
     "text": [
      "2023-08-07 01:16:37.497858: I tensorflow/core/grappler/optimizers/custom_graph_optimizer_registry.cc:114] Plugin optimizer for device_type GPU is enabled.\n"
     ]
    },
    {
     "name": "stdout",
     "output_type": "stream",
     "text": [
      "313/313 [==============================] - 5s 11ms/step\n"
     ]
    }
   ],
   "source": [
    "y_pred = cnn.predict(X_test)"
   ]
  }
 ],
 "metadata": {
  "kernelspec": {
   "display_name": "Python 3",
   "language": "python",
   "name": "python3"
  },
  "language_info": {
   "codemirror_mode": {
    "name": "ipython",
    "version": 3
   },
   "file_extension": ".py",
   "mimetype": "text/x-python",
   "name": "python",
   "nbconvert_exporter": "python",
   "pygments_lexer": "ipython3",
   "version": "3.11.4"
  },
  "orig_nbformat": 4
 },
 "nbformat": 4,
 "nbformat_minor": 2
}

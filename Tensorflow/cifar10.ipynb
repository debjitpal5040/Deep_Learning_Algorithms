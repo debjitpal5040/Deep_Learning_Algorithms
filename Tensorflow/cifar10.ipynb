{
 "cells": [
  {
   "cell_type": "code",
   "execution_count": null,
   "metadata": {},
   "outputs": [],
   "source": [
    "import matplotlib.pyplot as plt\n",
    "import numpy as np\n",
    "from keras.callbacks import (\n",
    "    CSVLogger,\n",
    "    ModelCheckpoint,\n",
    "    TensorBoard,\n",
    ")\n",
    "from keras.datasets import cifar10\n",
    "from keras.layers import Conv2D, Dense, Dropout, Flatten, MaxPooling2D\n",
    "from keras.models import Sequential\n",
    "from keras.optimizers.legacy import SGD"
   ]
  },
  {
   "cell_type": "code",
   "execution_count": null,
   "metadata": {},
   "outputs": [],
   "source": [
    "(X_train, y_train), (X_test, y_test) = cifar10.load_data()"
   ]
  },
  {
   "cell_type": "markdown",
   "metadata": {},
   "source": [
    "CIFAR-10 stands for Canadian Institute For Advanced Research 10, which is a dataset of 50,000 32x32 color images in 10 classes, with 6,000 images per class. The dataset is commonly used for image classification tasks in machine learning and computer vision.\n"
   ]
  },
  {
   "cell_type": "markdown",
   "metadata": {},
   "source": [
    "The 10 classes in the CIFAR-10 dataset are:\n",
    "\n",
    "1. airplane\n",
    "2. automobile\n",
    "3. bird\n",
    "4. cat\n",
    "5. deer\n",
    "6. dog\n",
    "7. frog\n",
    "8. horse\n",
    "9. ship\n",
    "10. truck\n"
   ]
  },
  {
   "cell_type": "code",
   "execution_count": null,
   "metadata": {},
   "outputs": [],
   "source": [
    "X_train.shape"
   ]
  },
  {
   "cell_type": "code",
   "execution_count": null,
   "metadata": {},
   "outputs": [],
   "source": [
    "X_test.shape"
   ]
  },
  {
   "cell_type": "code",
   "execution_count": null,
   "metadata": {},
   "outputs": [],
   "source": [
    "y_train.shape"
   ]
  },
  {
   "cell_type": "code",
   "execution_count": null,
   "metadata": {},
   "outputs": [],
   "source": [
    "y_test.shape"
   ]
  },
  {
   "cell_type": "code",
   "execution_count": null,
   "metadata": {},
   "outputs": [],
   "source": [
    "class_names = [\n",
    "    \"airplane\",\n",
    "    \"automobile\",\n",
    "    \"bird\",\n",
    "    \"cat\",\n",
    "    \"deer\",\n",
    "    \"dog\",\n",
    "    \"frog\",\n",
    "    \"horse\",\n",
    "    \"ship\",\n",
    "    \"truck\",\n",
    "]"
   ]
  },
  {
   "cell_type": "code",
   "execution_count": null,
   "metadata": {},
   "outputs": [],
   "source": [
    "def plot_sample(index):\n",
    "    plt.figure(figsize=(15, 2))\n",
    "    plt.imshow(X_train[index])\n",
    "    plt.title(\"Label: {}\".format(class_names[y_train[index][0]]))"
   ]
  },
  {
   "cell_type": "code",
   "execution_count": null,
   "metadata": {},
   "outputs": [],
   "source": [
    "plot_sample(101)"
   ]
  },
  {
   "cell_type": "code",
   "execution_count": null,
   "metadata": {},
   "outputs": [],
   "source": [
    "X_train = X_train / 255\n",
    "X_test = X_test / 255"
   ]
  },
  {
   "cell_type": "code",
   "execution_count": null,
   "metadata": {},
   "outputs": [],
   "source": [
    "ann = Sequential(\n",
    "    layers=[\n",
    "        Flatten(input_shape=(32, 32, 3), name=\"input_layer\"),\n",
    "        Dense(1600, activation=\"sigmoid\", name=\"hidden_layer_1\"),\n",
    "        Dense(800, activation=\"sigmoid\", name=\"hidden_layer_2\"),\n",
    "        Dense(400, activation=\"sigmoid\", name=\"hidden_layer_3\"),\n",
    "        Dense(200, activation=\"sigmoid\", name=\"hidden_layer_4\"),\n",
    "        Dense(100, activation=\"sigmoid\", name=\"hidden_layer_5\"),\n",
    "        Dense(10, activation=\"softmax\", name=\"output_layer\"),\n",
    "    ],\n",
    "    name=\"ann\",\n",
    ")"
   ]
  },
  {
   "cell_type": "code",
   "execution_count": null,
   "metadata": {},
   "outputs": [],
   "source": [
    "ann.layers"
   ]
  },
  {
   "cell_type": "code",
   "execution_count": null,
   "metadata": {},
   "outputs": [],
   "source": [
    "ann.summary()"
   ]
  },
  {
   "cell_type": "code",
   "execution_count": null,
   "metadata": {},
   "outputs": [],
   "source": [
    "optimizer = SGD(learning_rate=0.01, momentum=0.9)\n",
    "epochs = 10\n",
    "ann.compile(\n",
    "    optimizer=optimizer, loss=\"sparse_categorical_crossentropy\", metrics=[\"accuracy\"]\n",
    ")"
   ]
  },
  {
   "cell_type": "code",
   "execution_count": null,
   "metadata": {},
   "outputs": [],
   "source": [
    "ann_checkpoint_callback = ModelCheckpoint(\n",
    "    filepath=\"../Models/cifar10_ann\", monitor=\"val_accuracy\", save_best_only=True\n",
    ")\n",
    "ann_tensorboard_callback = TensorBoard(\n",
    "    log_dir=\"../Logs/cifar10_ann_logs\", histogram_freq=1, write_images=True\n",
    ")\n",
    "ann_csvlogger_callback = CSVLogger(\"../Logs/cifar10_ann_logs.csv\")\n",
    "\n",
    "ann_history = ann.fit(\n",
    "    X_train,\n",
    "    y_train,\n",
    "    batch_size=32,\n",
    "    epochs=epochs,\n",
    "    validation_split=0.1,\n",
    "    # callbacks=[\n",
    "    #     ann_checkpoint_callback,\n",
    "    #     ann_tensorboard_callback,\n",
    "    #     ann_csvlogger_callback,\n",
    "    # ],\n",
    ")"
   ]
  },
  {
   "cell_type": "code",
   "execution_count": null,
   "metadata": {},
   "outputs": [],
   "source": [
    "ann_train_loss = ann_history.history[\"loss\"]\n",
    "ann_train_acc = ann_history.history[\"accuracy\"]\n",
    "ann_val_acc = ann_history.history[\"val_accuracy\"]\n",
    "ann_val_loss = ann_history.history[\"val_loss\"]\n",
    "\n",
    "print(\"Training loss:\", np.mean(ann_train_loss))\n",
    "print(\"Validation loss:\", np.mean(ann_val_loss))\n",
    "print(\n",
    "    \"%f Training accuracy with a standard deviation of %f\"\n",
    "    % (np.mean(ann_train_acc), np.std(ann_train_acc))\n",
    ")\n",
    "print(\n",
    "    \"%f Validation accuracy with a standard deviation of %f\"\n",
    "    % (np.mean(ann_val_acc), np.std(ann_val_acc))\n",
    ")"
   ]
  },
  {
   "cell_type": "code",
   "execution_count": null,
   "metadata": {},
   "outputs": [],
   "source": [
    "epochs_range = range(epochs)\n",
    "\n",
    "# Plot the training and validation accuracy\n",
    "plt.figure(figsize=(12, 10))\n",
    "plt.subplot(1, 2, 1)\n",
    "plt.plot(epochs_range, ann_train_acc, label=\"Training Accuracy\")\n",
    "plt.plot(epochs_range, ann_val_acc, label=\"Validation Accuracy\")\n",
    "plt.legend(loc=\"upper left\")\n",
    "plt.title(\"Training and Validation Accuracy\")\n",
    "\n",
    "# Plot the training and validation loss\n",
    "plt.subplot(1, 2, 2)\n",
    "plt.plot(epochs_range, ann_train_loss, label=\"Training Loss\")\n",
    "plt.plot(epochs_range, ann_val_loss, label=\"Validation Loss\")\n",
    "plt.legend(loc=\"upper right\")\n",
    "plt.title(\"Training and Validation Loss\")\n",
    "\n",
    "plt.savefig(\"../Images/cifar10_ann_acc_loss.png\", bbox_inches=\"tight\")"
   ]
  },
  {
   "cell_type": "code",
   "execution_count": null,
   "metadata": {},
   "outputs": [],
   "source": [
    "ann_test_loss, ann_test_accuracy = ann.evaluate(X_test, y_test)\n",
    "print(\"Test loss:\", ann_test_loss)\n",
    "print(\"Test accuracy:\", ann_test_accuracy)"
   ]
  },
  {
   "cell_type": "code",
   "execution_count": null,
   "metadata": {},
   "outputs": [],
   "source": [
    "y_pred = ann.predict(X_test)"
   ]
  },
  {
   "cell_type": "code",
   "execution_count": null,
   "metadata": {},
   "outputs": [],
   "source": [
    "cnn = Sequential(\n",
    "    layers=[\n",
    "        Conv2D(\n",
    "            filters=32,\n",
    "            kernel_size=(3, 3),\n",
    "            activation=\"relu\",\n",
    "            padding=\"same\",\n",
    "            kernel_initializer=\"he_uniform\",\n",
    "            input_shape=(32, 32, 3),\n",
    "            name=\"conv_layer_1\",\n",
    "        ),\n",
    "        Conv2D(\n",
    "            filters=32,\n",
    "            kernel_size=(3, 3),\n",
    "            activation=\"relu\",\n",
    "            padding=\"same\",\n",
    "            kernel_initializer=\"he_uniform\",\n",
    "            name=\"conv_layer_2\",\n",
    "        ),\n",
    "        MaxPooling2D((2, 2), name=\"pooling_layer_1\"),\n",
    "        Dropout(0.2, name=\"dropout_layer_1\"),\n",
    "        Conv2D(\n",
    "            filters=64,\n",
    "            kernel_size=(3, 3),\n",
    "            activation=\"relu\",\n",
    "            padding=\"same\",\n",
    "            kernel_initializer=\"he_uniform\",\n",
    "            name=\"conv_layer_3\",\n",
    "        ),\n",
    "        Conv2D(\n",
    "            filters=64,\n",
    "            kernel_size=(3, 3),\n",
    "            activation=\"relu\",\n",
    "            padding=\"same\",\n",
    "            kernel_initializer=\"he_uniform\",\n",
    "            name=\"conv_layer_4\",\n",
    "        ),\n",
    "        MaxPooling2D((2, 2), name=\"pooling_layer_2\"),\n",
    "        Dropout(0.2, name=\"dropout_layer_2\"),\n",
    "        Conv2D(\n",
    "            filters=128,\n",
    "            kernel_size=(3, 3),\n",
    "            activation=\"relu\",\n",
    "            padding=\"same\",\n",
    "            kernel_initializer=\"he_uniform\",\n",
    "            name=\"conv_layer_5\",\n",
    "        ),\n",
    "        Conv2D(\n",
    "            filters=128,\n",
    "            kernel_size=(3, 3),\n",
    "            activation=\"relu\",\n",
    "            padding=\"same\",\n",
    "            kernel_initializer=\"he_uniform\",\n",
    "            name=\"conv_layer_6\",\n",
    "        ),\n",
    "        MaxPooling2D((2, 2), name=\"pooling_layer_3\"),\n",
    "        Dropout(0.2, name=\"dropout_layer_3\"),\n",
    "        Flatten(name=\"flatten_layer\"),\n",
    "        Dense(128, activation=\"relu\", name=\"dense_layer_1\"),\n",
    "        Dropout(0.2, name=\"dropout_layer_4\"),\n",
    "        Dense(10, activation=\"softmax\", name=\"final_layer\"),\n",
    "    ],\n",
    "    name=\"cnn\",\n",
    ")"
   ]
  },
  {
   "cell_type": "code",
   "execution_count": null,
   "metadata": {},
   "outputs": [],
   "source": [
    "cnn.layers"
   ]
  },
  {
   "cell_type": "code",
   "execution_count": null,
   "metadata": {},
   "outputs": [],
   "source": [
    "cnn.summary()"
   ]
  },
  {
   "cell_type": "code",
   "execution_count": null,
   "metadata": {},
   "outputs": [],
   "source": [
    "optimizer = SGD(lr=0.001, momentum=0.9)"
   ]
  },
  {
   "cell_type": "code",
   "execution_count": null,
   "metadata": {},
   "outputs": [],
   "source": [
    "epochs = 10"
   ]
  },
  {
   "cell_type": "code",
   "execution_count": null,
   "metadata": {},
   "outputs": [],
   "source": [
    "cnn.compile(\n",
    "    optimizer=optimizer, loss=\"sparse_categorical_crossentropy\", metrics=[\"accuracy\"]\n",
    ")"
   ]
  },
  {
   "cell_type": "code",
   "execution_count": null,
   "metadata": {},
   "outputs": [],
   "source": [
    "cnn_checkpoint_callback = ModelCheckpoint(\n",
    "    filepath=\"../Models/cifar10_cnn\",\n",
    "    monitor=\"val_accuracy\",\n",
    "    save_best_only=True,\n",
    ")\n",
    "cnn_tensorboard_callback = TensorBoard(\n",
    "    log_dir=\"../Logs/cifar10_cnn_logs\", histogram_freq=1, write_images=True\n",
    ")\n",
    "cnn_csvlogger_callback = CSVLogger(\"../Logs/cifar10_cnn_logs.csv\")\n",
    "cnn_history = cnn.fit(\n",
    "    X_train,\n",
    "    y_train,\n",
    "    batch_size=64,\n",
    "    epochs=epochs,\n",
    "    validation_split=0.1,\n",
    "    # callbacks=[cnn_checkpoint_callback, cnn_tensorboard_callback],\n",
    ")"
   ]
  },
  {
   "cell_type": "code",
   "execution_count": null,
   "metadata": {},
   "outputs": [],
   "source": [
    "cnn_train_acc = cnn_history.history[\"accuracy\"]\n",
    "cnn_val_acc = cnn_history.history[\"val_accuracy\"]\n",
    "cnn_train_loss = cnn_history.history[\"loss\"]\n",
    "cnn_val_loss = cnn_history.history[\"val_loss\"]\n",
    "\n",
    "\n",
    "print(\"Training loss:\", np.mean(cnn_train_loss))\n",
    "print(\"Validation loss:\", np.mean(cnn_val_loss))\n",
    "print(\n",
    "    \"%f Training accuracy with a standard deviation of %f\"\n",
    "    % (np.mean(cnn_train_acc), np.std(cnn_train_acc))\n",
    ")\n",
    "print(\n",
    "    \"%f Validation accuracy with a standard deviation of %f\"\n",
    "    % (np.mean(cnn_val_acc), np.std(cnn_val_acc))\n",
    ")"
   ]
  },
  {
   "cell_type": "code",
   "execution_count": null,
   "metadata": {},
   "outputs": [],
   "source": [
    "epochs_range = range(epochs)\n",
    "\n",
    "# Plot the training and validation accuracy\n",
    "plt.figure(figsize=(12, 10))\n",
    "plt.subplot(1, 2, 1)\n",
    "plt.plot(epochs_range, cnn_train_acc, label=\"Training Accuracy\")\n",
    "plt.plot(epochs_range, cnn_val_acc, label=\"Validation Accuracy\")\n",
    "plt.legend(loc=\"upper left\")\n",
    "plt.title(\"Training and Validation Accuracy\")\n",
    "\n",
    "# Plot the training and validation loss\n",
    "plt.subplot(1, 2, 2)\n",
    "plt.plot(epochs_range, cnn_train_loss, label=\"Training Loss\")\n",
    "plt.plot(epochs_range, cnn_val_loss, label=\"Validation Loss\")\n",
    "plt.legend(loc=\"upper right\")\n",
    "plt.title(\"Training and Validation Loss\")\n",
    "\n",
    "plt.savefig(\"../Images/cifar10_cnn_acc_loss.png\", bbox_inches=\"tight\")"
   ]
  },
  {
   "cell_type": "code",
   "execution_count": null,
   "metadata": {},
   "outputs": [],
   "source": [
    "cnn_test_loss, cnn_test_accuracy = cnn.evaluate(X_test, y_test)\n",
    "print(\"Test loss:\", cnn_test_loss)\n",
    "print(\"Test accuracy:\", cnn_test_accuracy)"
   ]
  },
  {
   "cell_type": "code",
   "execution_count": null,
   "metadata": {},
   "outputs": [],
   "source": [
    "y_pred = cnn.predict(X_test)"
   ]
  }
 ],
 "metadata": {
  "kernelspec": {
   "display_name": "Python 3",
   "language": "python",
   "name": "python3"
  },
  "language_info": {
   "codemirror_mode": {
    "name": "ipython",
    "version": 3
   },
   "file_extension": ".py",
   "mimetype": "text/x-python",
   "name": "python",
   "nbconvert_exporter": "python",
   "pygments_lexer": "ipython3",
   "version": "3.11.4"
  },
  "orig_nbformat": 4
 },
 "nbformat": 4,
 "nbformat_minor": 2
}

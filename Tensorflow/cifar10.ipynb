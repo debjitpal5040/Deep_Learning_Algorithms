{
 "cells": [
  {
   "cell_type": "code",
   "execution_count": 50,
   "metadata": {},
   "outputs": [],
   "source": [
    "import matplotlib.pyplot as plt\n",
    "from keras import datasets, layers, models"
   ]
  },
  {
   "cell_type": "code",
   "execution_count": 51,
   "metadata": {},
   "outputs": [],
   "source": [
    "(X_train, y_train), (X_test, y_test) = datasets.cifar10.load_data()"
   ]
  },
  {
   "cell_type": "markdown",
   "metadata": {},
   "source": [
    "CIFAR-10 stands for Canadian Institute For Advanced Research 10, which is a dataset of 50,000 32x32 color images in 10 classes, with 6,000 images per class. The dataset is commonly used for image classification tasks in machine learning and computer vision.\n"
   ]
  },
  {
   "cell_type": "markdown",
   "metadata": {},
   "source": [
    "The 10 classes in the CIFAR-10 dataset are:\n",
    "\n",
    "1. airplane\n",
    "2. automobile\n",
    "3. bird\n",
    "4. cat\n",
    "5. deer\n",
    "6. dog\n",
    "7. frog\n",
    "8. horse\n",
    "9. ship\n",
    "10. truck\n"
   ]
  },
  {
   "cell_type": "code",
   "execution_count": 52,
   "metadata": {},
   "outputs": [
    {
     "data": {
      "text/plain": [
       "(50000, 32, 32, 3)"
      ]
     },
     "execution_count": 52,
     "metadata": {},
     "output_type": "execute_result"
    }
   ],
   "source": [
    "X_train.shape"
   ]
  },
  {
   "cell_type": "code",
   "execution_count": 53,
   "metadata": {},
   "outputs": [
    {
     "data": {
      "text/plain": [
       "(10000, 32, 32, 3)"
      ]
     },
     "execution_count": 53,
     "metadata": {},
     "output_type": "execute_result"
    }
   ],
   "source": [
    "X_test.shape"
   ]
  },
  {
   "cell_type": "code",
   "execution_count": 54,
   "metadata": {},
   "outputs": [
    {
     "data": {
      "text/plain": [
       "(50000, 1)"
      ]
     },
     "execution_count": 54,
     "metadata": {},
     "output_type": "execute_result"
    }
   ],
   "source": [
    "y_train.shape"
   ]
  },
  {
   "cell_type": "code",
   "execution_count": 55,
   "metadata": {},
   "outputs": [
    {
     "data": {
      "text/plain": [
       "(10000, 1)"
      ]
     },
     "execution_count": 55,
     "metadata": {},
     "output_type": "execute_result"
    }
   ],
   "source": [
    "y_test.shape"
   ]
  },
  {
   "cell_type": "code",
   "execution_count": 56,
   "metadata": {},
   "outputs": [],
   "source": [
    "class_names = [\n",
    "    \"airplane\",\n",
    "    \"automobile\",\n",
    "    \"bird\",\n",
    "    \"cat\",\n",
    "    \"deer\",\n",
    "    \"dog\",\n",
    "    \"frog\",\n",
    "    \"horse\",\n",
    "    \"ship\",\n",
    "    \"truck\",\n",
    "]"
   ]
  },
  {
   "cell_type": "code",
   "execution_count": 57,
   "metadata": {},
   "outputs": [],
   "source": [
    "def plot_sample(index):\n",
    "    plt.figure(figsize=(15, 2))\n",
    "    plt.imshow(X_train[index])\n",
    "    plt.xlabel(class_names[y_train[index][0]])"
   ]
  },
  {
   "cell_type": "code",
   "execution_count": 58,
   "metadata": {},
   "outputs": [
    {
     "data": {
      "image/png": "[encoded data removed]",
      "text/plain": [
       "<Figure size 1500x200 with 1 Axes>"
      ]
     },
     "metadata": {},
     "output_type": "display_data"
    }
   ],
   "source": [
    "plot_sample(101)"
   ]
  },
  {
   "cell_type": "code",
   "execution_count": 59,
   "metadata": {},
   "outputs": [],
   "source": [
    "X_train = X_train / 255\n",
    "X_test = X_test / 255"
   ]
  },
  {
   "cell_type": "code",
   "execution_count": 60,
   "metadata": {},
   "outputs": [],
   "source": [
    "ann = models.Sequential(\n",
    "    layers=[\n",
    "        layers.Flatten(input_shape=(32, 32, 3), name=\"input\"),\n",
    "        layers.Dense(3200, activation=\"relu\", name=\"layer1\"),\n",
    "        layers.Dense(1600, activation=\"relu\", name=\"layer2\"),\n",
    "        layers.Dense(800, activation=\"relu\", name=\"layer3\"),\n",
    "        layers.Dense(10, activation=\"sigmoid\", name=\"output\"),\n",
    "    ],\n",
    "    name=\"ann\",\n",
    ")"
   ]
  },
  {
   "cell_type": "code",
   "execution_count": 61,
   "metadata": {},
   "outputs": [
    {
     "data": {
      "text/plain": [
       "[<keras.src.layers.reshaping.flatten.Flatten at 0x2c38cbcd0>,\n",
       " <keras.src.layers.core.dense.Dense at 0x2c3848950>,\n",
       " <keras.src.layers.core.dense.Dense at 0x2c38b1490>,\n",
       " <keras.src.layers.core.dense.Dense at 0x2c3861a90>,\n",
       " <keras.src.layers.core.dense.Dense at 0x2c0bff490>]"
      ]
     },
     "execution_count": 61,
     "metadata": {},
     "output_type": "execute_result"
    }
   ],
   "source": [
    "ann.layers"
   ]
  },
  {
   "cell_type": "code",
   "execution_count": 62,
   "metadata": {},
   "outputs": [
    {
     "name": "stdout",
     "output_type": "stream",
     "text": [
      "Model: \"ann\"\n",
      "_________________________________________________________________\n",
      " Layer (type)                Output Shape              Param #   \n",
      "=================================================================\n",
      " input (Flatten)             (None, 3072)              0         \n",
      "                                                                 \n",
      " layer1 (Dense)              (None, 3200)              9833600   \n",
      "                                                                 \n",
      " layer2 (Dense)              (None, 1600)              5121600   \n",
      "                                                                 \n",
      " layer3 (Dense)              (None, 800)               1280800   \n",
      "                                                                 \n",
      " output (Dense)              (None, 10)                8010      \n",
      "                                                                 \n",
      "=================================================================\n",
      "Total params: 16244010 (61.97 MB)\n",
      "Trainable params: 16244010 (61.97 MB)\n",
      "Non-trainable params: 0 (0.00 Byte)\n",
      "_________________________________________________________________\n"
     ]
    }
   ],
   "source": [
    "ann.summary()"
   ]
  },
  {
   "cell_type": "code",
   "execution_count": 63,
   "metadata": {},
   "outputs": [],
   "source": [
    "ann.compile(\n",
    "    optimizer=\"adam\", loss=\"sparse_categorical_crossentropy\", metrics=[\"accuracy\"]\n",
    ")"
   ]
  },
  {
   "cell_type": "code",
   "execution_count": 64,
   "metadata": {},
   "outputs": [
    {
     "name": "stdout",
     "output_type": "stream",
     "text": [
      "Epoch 1/10\n"
     ]
    },
    {
     "name": "stderr",
     "output_type": "stream",
     "text": [
      "2023-07-31 17:26:36.983747: I tensorflow/core/grappler/optimizers/custom_graph_optimizer_registry.cc:114] Plugin optimizer for device_type GPU is enabled.\n"
     ]
    },
    {
     "name": "stdout",
     "output_type": "stream",
     "text": [
      "1407/1407 [==============================] - ETA: 0s - loss: 107.2446 - accuracy: 0.1096"
     ]
    },
    {
     "name": "stderr",
     "output_type": "stream",
     "text": [
      "2023-07-31 17:27:22.358925: I tensorflow/core/grappler/optimizers/custom_graph_optimizer_registry.cc:114] Plugin optimizer for device_type GPU is enabled.\n"
     ]
    },
    {
     "name": "stdout",
     "output_type": "stream",
     "text": [
      "1407/1407 [==============================] - 47s 33ms/step - loss: 107.2446 - accuracy: 0.1096 - val_loss: 95.6732 - val_accuracy: 0.1400\n",
      "Epoch 2/10\n",
      "1407/1407 [==============================] - 45s 32ms/step - loss: 85.2906 - accuracy: 0.1123 - val_loss: 83.1520 - val_accuracy: 0.1054\n",
      "Epoch 3/10\n",
      "1407/1407 [==============================] - 43s 30ms/step - loss: 81.7340 - accuracy: 0.1158 - val_loss: 133.6089 - val_accuracy: 0.1058\n",
      "Epoch 4/10\n",
      "1407/1407 [==============================] - 42s 30ms/step - loss: 74.7730 - accuracy: 0.1232 - val_loss: 131.4609 - val_accuracy: 0.0984\n",
      "Epoch 5/10\n",
      "1407/1407 [==============================] - 45s 32ms/step - loss: 72.9887 - accuracy: 0.1197 - val_loss: 74.5341 - val_accuracy: 0.1148\n",
      "Epoch 6/10\n",
      "1407/1407 [==============================] - 44s 31ms/step - loss: 69.2966 - accuracy: 0.1256 - val_loss: 67.7450 - val_accuracy: 0.1588\n",
      "Epoch 7/10\n",
      "1407/1407 [==============================] - 47s 33ms/step - loss: 69.6184 - accuracy: 0.1300 - val_loss: 26.3213 - val_accuracy: 0.1628\n",
      "Epoch 8/10\n",
      "1407/1407 [==============================] - 45s 32ms/step - loss: 69.7584 - accuracy: 0.1299 - val_loss: 46.3460 - val_accuracy: 0.1576\n",
      "Epoch 9/10\n",
      "1407/1407 [==============================] - 45s 32ms/step - loss: 67.1615 - accuracy: 0.1302 - val_loss: 51.0652 - val_accuracy: 0.1194\n",
      "Epoch 10/10\n",
      "1407/1407 [==============================] - 41s 29ms/step - loss: 68.5202 - accuracy: 0.1305 - val_loss: 44.3329 - val_accuracy: 0.1462\n"
     ]
    },
    {
     "data": {
      "text/plain": [
       "<keras.src.callbacks.History at 0x2c38bc910>"
      ]
     },
     "execution_count": 64,
     "metadata": {},
     "output_type": "execute_result"
    }
   ],
   "source": [
    "ann.fit(X_train, y_train, batch_size=32, epochs=10, validation_split=0.1)"
   ]
  },
  {
   "cell_type": "code",
   "execution_count": 65,
   "metadata": {},
   "outputs": [
    {
     "name": "stdout",
     "output_type": "stream",
     "text": [
      "313/313 [==============================] - 3s 8ms/step - loss: 44.1941 - accuracy: 0.1535\n"
     ]
    },
    {
     "data": {
      "text/plain": [
       "[44.194129943847656, 0.1535000056028366]"
      ]
     },
     "execution_count": 65,
     "metadata": {},
     "output_type": "execute_result"
    }
   ],
   "source": [
    "ann.evaluate(X_test, y_test)"
   ]
  },
  {
   "cell_type": "code",
   "execution_count": 66,
   "metadata": {},
   "outputs": [
    {
     "name": "stdout",
     "output_type": "stream",
     "text": [
      " 34/313 [==>...........................] - ETA: 1s"
     ]
    },
    {
     "name": "stderr",
     "output_type": "stream",
     "text": [
      "2023-07-31 17:34:04.663715: I tensorflow/core/grappler/optimizers/custom_graph_optimizer_registry.cc:114] Plugin optimizer for device_type GPU is enabled.\n"
     ]
    },
    {
     "name": "stdout",
     "output_type": "stream",
     "text": [
      "313/313 [==============================] - 2s 7ms/step\n"
     ]
    }
   ],
   "source": [
    "y_pred = ann.predict(X_test)"
   ]
  },
  {
   "cell_type": "code",
   "execution_count": 67,
   "metadata": {},
   "outputs": [],
   "source": [
    "cnn = models.Sequential(\n",
    "    layers=[\n",
    "        layers.Conv2D(\n",
    "            filters=32,\n",
    "            kernel_size=(3, 3),\n",
    "            activation=\"relu\",\n",
    "            input_shape=(32, 32, 3),\n",
    "            name=\"conv1\",\n",
    "        ),\n",
    "        layers.MaxPooling2D((2, 2), name=\"pool1\"),\n",
    "        layers.Conv2D(filters=64, kernel_size=(3, 3), activation=\"relu\", name=\"conv2\"),\n",
    "        layers.MaxPooling2D((2, 2), name=\"pool2\"),\n",
    "        layers.Flatten(name=\"flatten\"),\n",
    "        layers.Dense(64, activation=\"relu\", name=\"dense1\"),\n",
    "        layers.Dense(10, activation=\"softmax\", name=\"dense2\"),\n",
    "    ],\n",
    "    name=\"cnn\",\n",
    ")"
   ]
  },
  {
   "cell_type": "code",
   "execution_count": 68,
   "metadata": {},
   "outputs": [
    {
     "data": {
      "text/plain": [
       "[<keras.src.layers.convolutional.conv2d.Conv2D at 0x2c2742610>,\n",
       " <keras.src.layers.pooling.max_pooling2d.MaxPooling2D at 0x2c286ac90>,\n",
       " <keras.src.layers.convolutional.conv2d.Conv2D at 0x2c28773d0>,\n",
       " <keras.src.layers.pooling.max_pooling2d.MaxPooling2D at 0x31411c6d0>,\n",
       " <keras.src.layers.reshaping.flatten.Flatten at 0x2c0c4e690>,\n",
       " <keras.src.layers.core.dense.Dense at 0x314158210>,\n",
       " <keras.src.layers.core.dense.Dense at 0x2c2752510>]"
      ]
     },
     "execution_count": 68,
     "metadata": {},
     "output_type": "execute_result"
    }
   ],
   "source": [
    "cnn.layers"
   ]
  },
  {
   "cell_type": "code",
   "execution_count": 69,
   "metadata": {},
   "outputs": [
    {
     "name": "stdout",
     "output_type": "stream",
     "text": [
      "Model: \"cnn\"\n",
      "_________________________________________________________________\n",
      " Layer (type)                Output Shape              Param #   \n",
      "=================================================================\n",
      " conv1 (Conv2D)              (None, 30, 30, 32)        896       \n",
      "                                                                 \n",
      " pool1 (MaxPooling2D)        (None, 15, 15, 32)        0         \n",
      "                                                                 \n",
      " conv2 (Conv2D)              (None, 13, 13, 64)        18496     \n",
      "                                                                 \n",
      " pool2 (MaxPooling2D)        (None, 6, 6, 64)          0         \n",
      "                                                                 \n",
      " flatten (Flatten)           (None, 2304)              0         \n",
      "                                                                 \n",
      " dense1 (Dense)              (None, 64)                147520    \n",
      "                                                                 \n",
      " dense2 (Dense)              (None, 10)                650       \n",
      "                                                                 \n",
      "=================================================================\n",
      "Total params: 167562 (654.54 KB)\n",
      "Trainable params: 167562 (654.54 KB)\n",
      "Non-trainable params: 0 (0.00 Byte)\n",
      "_________________________________________________________________\n"
     ]
    }
   ],
   "source": [
    "cnn.summary()"
   ]
  },
  {
   "cell_type": "code",
   "execution_count": 70,
   "metadata": {},
   "outputs": [],
   "source": [
    "cnn.compile(\n",
    "    optimizer=\"adam\", loss=\"sparse_categorical_crossentropy\", metrics=[\"accuracy\"]\n",
    ")"
   ]
  },
  {
   "cell_type": "code",
   "execution_count": 71,
   "metadata": {},
   "outputs": [
    {
     "name": "stdout",
     "output_type": "stream",
     "text": [
      "Epoch 1/10\n"
     ]
    },
    {
     "name": "stderr",
     "output_type": "stream",
     "text": [
      "2023-07-31 17:34:13.003427: I tensorflow/core/grappler/optimizers/custom_graph_optimizer_registry.cc:114] Plugin optimizer for device_type GPU is enabled.\n"
     ]
    },
    {
     "name": "stdout",
     "output_type": "stream",
     "text": [
      "1407/1407 [==============================] - ETA: 0s - loss: 1.4951 - accuracy: 0.4639"
     ]
    },
    {
     "name": "stderr",
     "output_type": "stream",
     "text": [
      "2023-07-31 17:34:31.734773: I tensorflow/core/grappler/optimizers/custom_graph_optimizer_registry.cc:114] Plugin optimizer for device_type GPU is enabled.\n"
     ]
    },
    {
     "name": "stdout",
     "output_type": "stream",
     "text": [
      "1407/1407 [==============================] - 20s 14ms/step - loss: 1.4951 - accuracy: 0.4639 - val_loss: 1.3310 - val_accuracy: 0.5412\n",
      "Epoch 2/10\n",
      "1407/1407 [==============================] - 19s 13ms/step - loss: 1.1896 - accuracy: 0.5829 - val_loss: 1.1125 - val_accuracy: 0.6210\n",
      "Epoch 3/10\n",
      "1407/1407 [==============================] - 18s 13ms/step - loss: 1.0954 - accuracy: 0.6231 - val_loss: 1.1599 - val_accuracy: 0.6094\n",
      "Epoch 4/10\n",
      "1407/1407 [==============================] - 18s 13ms/step - loss: 1.1428 - accuracy: 0.6190 - val_loss: 1.1487 - val_accuracy: 0.6230\n",
      "Epoch 5/10\n",
      "1407/1407 [==============================] - 19s 14ms/step - loss: 1.2721 - accuracy: 0.6084 - val_loss: 1.3602 - val_accuracy: 0.6018\n",
      "Epoch 6/10\n",
      "1407/1407 [==============================] - 19s 14ms/step - loss: 1.5698 - accuracy: 0.5843 - val_loss: 1.7416 - val_accuracy: 0.5506\n",
      "Epoch 7/10\n",
      "1407/1407 [==============================] - 19s 14ms/step - loss: 2.1749 - accuracy: 0.5577 - val_loss: 2.7093 - val_accuracy: 0.5350\n",
      "Epoch 8/10\n",
      "1407/1407 [==============================] - 18s 13ms/step - loss: 3.4218 - accuracy: 0.5277 - val_loss: 4.6062 - val_accuracy: 0.4912\n",
      "Epoch 9/10\n",
      "1407/1407 [==============================] - 18s 13ms/step - loss: 4.9819 - accuracy: 0.5100 - val_loss: 6.8447 - val_accuracy: 0.4870\n",
      "Epoch 10/10\n",
      "1407/1407 [==============================] - 18s 13ms/step - loss: 7.8927 - accuracy: 0.4887 - val_loss: 15.0437 - val_accuracy: 0.4294\n"
     ]
    },
    {
     "data": {
      "text/plain": [
       "<keras.src.callbacks.History at 0x2c2884ad0>"
      ]
     },
     "execution_count": 71,
     "metadata": {},
     "output_type": "execute_result"
    }
   ],
   "source": [
    "cnn.fit(X_train, y_train, batch_size=32, epochs=10, validation_split=0.1)"
   ]
  },
  {
   "cell_type": "code",
   "execution_count": 72,
   "metadata": {},
   "outputs": [
    {
     "name": "stdout",
     "output_type": "stream",
     "text": [
      "313/313 [==============================] - 2s 7ms/step - loss: 15.6689 - accuracy: 0.4231\n"
     ]
    },
    {
     "data": {
      "text/plain": [
       "[15.668904304504395, 0.42309999465942383]"
      ]
     },
     "execution_count": 72,
     "metadata": {},
     "output_type": "execute_result"
    }
   ],
   "source": [
    "cnn.evaluate(X_test, y_test)"
   ]
  },
  {
   "cell_type": "code",
   "execution_count": 73,
   "metadata": {},
   "outputs": [
    {
     "name": "stdout",
     "output_type": "stream",
     "text": [
      " 19/313 [>.............................] - ETA: 1s"
     ]
    },
    {
     "name": "stderr",
     "output_type": "stream",
     "text": [
      "2023-07-31 17:37:59.246542: I tensorflow/core/grappler/optimizers/custom_graph_optimizer_registry.cc:114] Plugin optimizer for device_type GPU is enabled.\n"
     ]
    },
    {
     "name": "stdout",
     "output_type": "stream",
     "text": [
      "313/313 [==============================] - 1s 4ms/step\n"
     ]
    }
   ],
   "source": [
    "y_pred = cnn.predict(X_test)"
   ]
  },
  {
   "cell_type": "code",
   "execution_count": null,
   "metadata": {},
   "outputs": [],
   "source": []
  }
 ],
 "metadata": {
  "kernelspec": {
   "display_name": "Python 3",
   "language": "python",
   "name": "python3"
  },
  "language_info": {
   "codemirror_mode": {
    "name": "ipython",
    "version": 3
   },
   "file_extension": ".py",
   "mimetype": "text/x-python",
   "name": "python",
   "nbconvert_exporter": "python",
   "pygments_lexer": "ipython3",
   "version": "3.11.4"
  },
  "orig_nbformat": 4
 },
 "nbformat": 4,
 "nbformat_minor": 2
}

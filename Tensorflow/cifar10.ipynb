{
 "cells": [
  {
   "cell_type": "markdown",
   "metadata": {},
   "source": [
    "# CIFAR10 DATASET\n"
   ]
  },
  {
   "cell_type": "code",
   "execution_count": 1,
   "metadata": {
    "editable": true,
    "slideshow": {
     "slide_type": ""
    },
    "tags": []
   },
   "outputs": [],
   "source": [
    "import matplotlib.pyplot as plt\n",
    "import numpy as np\n",
    "from keras.callbacks import CSVLogger, ModelCheckpoint, TensorBoard\n",
    "from keras.datasets import cifar10\n",
    "from keras.layers import Conv2D, Dense, Dropout, Flatten, MaxPooling2D\n",
    "from keras.models import Sequential\n",
    "from keras.optimizers.legacy import SGD"
   ]
  },
  {
   "cell_type": "code",
   "execution_count": 2,
   "metadata": {},
   "outputs": [],
   "source": [
    "(X_train, y_train), (X_test, y_test) = cifar10.load_data()"
   ]
  },
  {
   "cell_type": "markdown",
   "metadata": {},
   "source": [
    "CIFAR-10 stands for Canadian Institute For Advanced Research 10, which is a dataset of 50,000 32x32 color images in 10 classes, with 6,000 images per class. The dataset is commonly used for image classification tasks in machine learning and computer vision.\n"
   ]
  },
  {
   "cell_type": "markdown",
   "metadata": {},
   "source": [
    "The 10 classes in the CIFAR-10 dataset are:\n",
    "\n",
    "1. airplane\n",
    "2. automobile\n",
    "3. bird\n",
    "4. cat\n",
    "5. deer\n",
    "6. dog\n",
    "7. frog\n",
    "8. horse\n",
    "9. ship\n",
    "10. truck\n"
   ]
  },
  {
   "cell_type": "code",
   "execution_count": 3,
   "metadata": {},
   "outputs": [
    {
     "data": {
      "text/plain": [
       "(50000, 32, 32, 3)"
      ]
     },
     "execution_count": 3,
     "metadata": {},
     "output_type": "execute_result"
    }
   ],
   "source": [
    "X_train.shape"
   ]
  },
  {
   "cell_type": "code",
   "execution_count": 4,
   "metadata": {},
   "outputs": [
    {
     "data": {
      "text/plain": [
       "(10000, 32, 32, 3)"
      ]
     },
     "execution_count": 4,
     "metadata": {},
     "output_type": "execute_result"
    }
   ],
   "source": [
    "X_test.shape"
   ]
  },
  {
   "cell_type": "code",
   "execution_count": 5,
   "metadata": {},
   "outputs": [
    {
     "data": {
      "text/plain": [
       "(50000, 1)"
      ]
     },
     "execution_count": 5,
     "metadata": {},
     "output_type": "execute_result"
    }
   ],
   "source": [
    "y_train.shape"
   ]
  },
  {
   "cell_type": "code",
   "execution_count": 6,
   "metadata": {},
   "outputs": [
    {
     "data": {
      "text/plain": [
       "(10000, 1)"
      ]
     },
     "execution_count": 6,
     "metadata": {},
     "output_type": "execute_result"
    }
   ],
   "source": [
    "y_test.shape"
   ]
  },
  {
   "cell_type": "code",
   "execution_count": 8,
   "metadata": {},
   "outputs": [],
   "source": [
    "class_names = [\n",
    "    \"airplane\",\n",
    "    \"automobile\",\n",
    "    \"bird\",\n",
    "    \"cat\",\n",
    "    \"deer\",\n",
    "    \"dog\",\n",
    "    \"frog\",\n",
    "    \"horse\",\n",
    "    \"ship\",\n",
    "    \"truck\",\n",
    "]"
   ]
  },
  {
   "cell_type": "code",
   "execution_count": 9,
   "metadata": {},
   "outputs": [
    {
     "data": {
      "image/png": "[encoded data removed]",
      "text/plain": [
       "<Figure size 1500x200 with 1 Axes>"
      ]
     },
     "metadata": {},
     "output_type": "display_data"
    }
   ],
   "source": [
    "def plot_sample(index):\n",
    "    plt.figure(figsize=(15, 2))\n",
    "    plt.imshow(X_train[index])\n",
    "    plt.title(\"Label: {}\".format(class_names[y_train[index][0]]))\n",
    "\n",
    "\n",
    "plot_sample(101)"
   ]
  },
  {
   "cell_type": "code",
   "execution_count": 10,
   "metadata": {},
   "outputs": [],
   "source": [
    "X_train = X_train / 255.0\n",
    "X_test = X_test / 255.0"
   ]
  },
  {
   "cell_type": "code",
   "execution_count": 11,
   "metadata": {},
   "outputs": [
    {
     "name": "stderr",
     "output_type": "stream",
     "text": [
      "2023-08-04 21:04:13.031588: I metal_plugin/src/device/metal_device.cc:1154] Metal device set to: Apple M1\n",
      "2023-08-04 21:04:13.031651: I metal_plugin/src/device/metal_device.cc:296] systemMemory: 8.00 GB\n",
      "2023-08-04 21:04:13.031665: I metal_plugin/src/device/metal_device.cc:313] maxCacheSize: 2.67 GB\n",
      "2023-08-04 21:04:13.031876: I tensorflow/core/common_runtime/pluggable_device/pluggable_device_factory.cc:303] Could not identify NUMA node of platform GPU ID 0, defaulting to 0. Your kernel may not have been built with NUMA support.\n",
      "2023-08-04 21:04:13.032200: I tensorflow/core/common_runtime/pluggable_device/pluggable_device_factory.cc:269] Created TensorFlow device (/job:localhost/replica:0/task:0/device:GPU:0 with 0 MB memory) -> physical PluggableDevice (device: 0, name: METAL, pci bus id: <undefined>)\n"
     ]
    }
   ],
   "source": [
    "ann = Sequential(\n",
    "    layers=[\n",
    "        Flatten(input_shape=(32, 32, 3), name=\"input_layer\"),\n",
    "        Dense(128, activation=\"relu\", name=\"hidden_layer_1\"),\n",
    "        Dropout(0.2, name=\"dropout_layer_1\"),\n",
    "        Dense(64, activation=\"relu\", name=\"hidden_layer_2\"),\n",
    "        Dropout(0.2, name=\"dropout_layer_2\"),\n",
    "        Dense(10, activation=\"softmax\", name=\"output_layer\"),\n",
    "    ],\n",
    "    name=\"ann\",\n",
    ")"
   ]
  },
  {
   "cell_type": "code",
   "execution_count": 12,
   "metadata": {},
   "outputs": [
    {
     "data": {
      "text/plain": [
       "[<keras.src.layers.reshaping.flatten.Flatten at 0x2864fd850>,\n",
       " <keras.src.layers.core.dense.Dense at 0x2864ed010>,\n",
       " <keras.src.layers.regularization.dropout.Dropout at 0x2864fe4d0>,\n",
       " <keras.src.layers.core.dense.Dense at 0x2864b2f50>,\n",
       " <keras.src.layers.regularization.dropout.Dropout at 0x2864fc7d0>,\n",
       " <keras.src.layers.core.dense.Dense at 0x2864b1b90>]"
      ]
     },
     "execution_count": 12,
     "metadata": {},
     "output_type": "execute_result"
    }
   ],
   "source": [
    "ann.layers"
   ]
  },
  {
   "cell_type": "code",
   "execution_count": 13,
   "metadata": {},
   "outputs": [
    {
     "name": "stdout",
     "output_type": "stream",
     "text": [
      "Model: \"ann\"\n",
      "_________________________________________________________________\n",
      " Layer (type)                Output Shape              Param #   \n",
      "=================================================================\n",
      " input_layer (Flatten)       (None, 3072)              0         \n",
      "                                                                 \n",
      " hidden_layer_1 (Dense)      (None, 128)               393344    \n",
      "                                                                 \n",
      " dropout_layer_1 (Dropout)   (None, 128)               0         \n",
      "                                                                 \n",
      " hidden_layer_2 (Dense)      (None, 64)                8256      \n",
      "                                                                 \n",
      " dropout_layer_2 (Dropout)   (None, 64)                0         \n",
      "                                                                 \n",
      " output_layer (Dense)        (None, 10)                650       \n",
      "                                                                 \n",
      "=================================================================\n",
      "Total params: 402250 (1.53 MB)\n",
      "Trainable params: 402250 (1.53 MB)\n",
      "Non-trainable params: 0 (0.00 Byte)\n",
      "_________________________________________________________________\n"
     ]
    }
   ],
   "source": [
    "ann.summary()"
   ]
  },
  {
   "cell_type": "code",
   "execution_count": 14,
   "metadata": {},
   "outputs": [],
   "source": [
    "optimizer = SGD(learning_rate=0.001, momentum=0.9)\n",
    "epochs = 25\n",
    "ann.compile(\n",
    "    optimizer=optimizer, loss=\"sparse_categorical_crossentropy\", metrics=[\"accuracy\"]\n",
    ")"
   ]
  },
  {
   "cell_type": "code",
   "execution_count": 15,
   "metadata": {},
   "outputs": [
    {
     "name": "stdout",
     "output_type": "stream",
     "text": [
      "Epoch 1/25\n"
     ]
    },
    {
     "name": "stderr",
     "output_type": "stream",
     "text": [
      "2023-08-04 21:04:15.979809: I tensorflow/core/grappler/optimizers/custom_graph_optimizer_registry.cc:114] Plugin optimizer for device_type GPU is enabled.\n"
     ]
    },
    {
     "name": "stdout",
     "output_type": "stream",
     "text": [
      "352/352 [==============================] - ETA: 0s - loss: 2.5280 - accuracy: 0.1520"
     ]
    },
    {
     "name": "stderr",
     "output_type": "stream",
     "text": [
      "2023-08-04 21:04:20.520045: I tensorflow/core/grappler/optimizers/custom_graph_optimizer_registry.cc:114] Plugin optimizer for device_type GPU is enabled.\n"
     ]
    },
    {
     "name": "stdout",
     "output_type": "stream",
     "text": [
      "INFO:tensorflow:Assets written to: ../Models/cifar10_ann/assets\n"
     ]
    },
    {
     "name": "stderr",
     "output_type": "stream",
     "text": [
      "INFO:tensorflow:Assets written to: ../Models/cifar10_ann/assets\n"
     ]
    },
    {
     "name": "stdout",
     "output_type": "stream",
     "text": [
      "352/352 [==============================] - 6s 15ms/step - loss: 2.5280 - accuracy: 0.1520 - val_loss: 2.0638 - val_accuracy: 0.2548\n",
      "Epoch 2/25\n",
      "351/352 [============================>.] - ETA: 0s - loss: 2.2212 - accuracy: 0.2152INFO:tensorflow:Assets written to: ../Models/cifar10_ann/assets\n"
     ]
    },
    {
     "name": "stderr",
     "output_type": "stream",
     "text": [
      "INFO:tensorflow:Assets written to: ../Models/cifar10_ann/assets\n"
     ]
    },
    {
     "name": "stdout",
     "output_type": "stream",
     "text": [
      "352/352 [==============================] - 5s 13ms/step - loss: 2.2212 - accuracy: 0.2152 - val_loss: 1.9655 - val_accuracy: 0.2976\n",
      "Epoch 3/25\n",
      "350/352 [============================>.] - ETA: 0s - loss: 2.0760 - accuracy: 0.2517INFO:tensorflow:Assets written to: ../Models/cifar10_ann/assets\n"
     ]
    },
    {
     "name": "stderr",
     "output_type": "stream",
     "text": [
      "INFO:tensorflow:Assets written to: ../Models/cifar10_ann/assets\n"
     ]
    },
    {
     "name": "stdout",
     "output_type": "stream",
     "text": [
      "352/352 [==============================] - 4s 12ms/step - loss: 2.0760 - accuracy: 0.2520 - val_loss: 1.9291 - val_accuracy: 0.3080\n",
      "Epoch 4/25\n",
      "349/352 [============================>.] - ETA: 0s - loss: 2.0147 - accuracy: 0.2744INFO:tensorflow:Assets written to: ../Models/cifar10_ann/assets\n"
     ]
    },
    {
     "name": "stderr",
     "output_type": "stream",
     "text": [
      "INFO:tensorflow:Assets written to: ../Models/cifar10_ann/assets\n"
     ]
    },
    {
     "name": "stdout",
     "output_type": "stream",
     "text": [
      "352/352 [==============================] - 4s 10ms/step - loss: 2.0141 - accuracy: 0.2746 - val_loss: 1.9056 - val_accuracy: 0.3250\n",
      "Epoch 5/25\n",
      "350/352 [============================>.] - ETA: 0s - loss: 1.9741 - accuracy: 0.2901INFO:tensorflow:Assets written to: ../Models/cifar10_ann/assets\n"
     ]
    },
    {
     "name": "stderr",
     "output_type": "stream",
     "text": [
      "INFO:tensorflow:Assets written to: ../Models/cifar10_ann/assets\n"
     ]
    },
    {
     "name": "stdout",
     "output_type": "stream",
     "text": [
      "352/352 [==============================] - 4s 12ms/step - loss: 1.9740 - accuracy: 0.2901 - val_loss: 1.8892 - val_accuracy: 0.3326\n",
      "Epoch 6/25\n",
      "351/352 [============================>.] - ETA: 0s - loss: 1.9483 - accuracy: 0.3007INFO:tensorflow:Assets written to: ../Models/cifar10_ann/assets\n"
     ]
    },
    {
     "name": "stderr",
     "output_type": "stream",
     "text": [
      "INFO:tensorflow:Assets written to: ../Models/cifar10_ann/assets\n"
     ]
    },
    {
     "name": "stdout",
     "output_type": "stream",
     "text": [
      "352/352 [==============================] - 4s 11ms/step - loss: 1.9484 - accuracy: 0.3006 - val_loss: 1.8783 - val_accuracy: 0.3406\n",
      "Epoch 7/25\n",
      "347/352 [============================>.] - ETA: 0s - loss: 1.9300 - accuracy: 0.3110INFO:tensorflow:Assets written to: ../Models/cifar10_ann/assets\n"
     ]
    },
    {
     "name": "stderr",
     "output_type": "stream",
     "text": [
      "INFO:tensorflow:Assets written to: ../Models/cifar10_ann/assets\n"
     ]
    },
    {
     "name": "stdout",
     "output_type": "stream",
     "text": [
      "352/352 [==============================] - 4s 11ms/step - loss: 1.9306 - accuracy: 0.3108 - val_loss: 1.8717 - val_accuracy: 0.3424\n",
      "Epoch 8/25\n",
      "352/352 [==============================] - ETA: 0s - loss: 1.9201 - accuracy: 0.3166INFO:tensorflow:Assets written to: ../Models/cifar10_ann/assets\n"
     ]
    },
    {
     "name": "stderr",
     "output_type": "stream",
     "text": [
      "INFO:tensorflow:Assets written to: ../Models/cifar10_ann/assets\n"
     ]
    },
    {
     "name": "stdout",
     "output_type": "stream",
     "text": [
      "352/352 [==============================] - 4s 11ms/step - loss: 1.9201 - accuracy: 0.3166 - val_loss: 1.8598 - val_accuracy: 0.3444\n",
      "Epoch 9/25\n",
      "346/352 [============================>.] - ETA: 0s - loss: 1.9129 - accuracy: 0.3184INFO:tensorflow:Assets written to: ../Models/cifar10_ann/assets\n"
     ]
    },
    {
     "name": "stderr",
     "output_type": "stream",
     "text": [
      "INFO:tensorflow:Assets written to: ../Models/cifar10_ann/assets\n"
     ]
    },
    {
     "name": "stdout",
     "output_type": "stream",
     "text": [
      "352/352 [==============================] - 4s 10ms/step - loss: 1.9130 - accuracy: 0.3185 - val_loss: 1.8514 - val_accuracy: 0.3504\n",
      "Epoch 10/25\n",
      "352/352 [==============================] - 4s 11ms/step - loss: 1.9069 - accuracy: 0.3218 - val_loss: 1.8486 - val_accuracy: 0.3504\n",
      "Epoch 11/25\n",
      "350/352 [============================>.] - ETA: 0s - loss: 1.9022 - accuracy: 0.3243INFO:tensorflow:Assets written to: ../Models/cifar10_ann/assets\n"
     ]
    },
    {
     "name": "stderr",
     "output_type": "stream",
     "text": [
      "INFO:tensorflow:Assets written to: ../Models/cifar10_ann/assets\n"
     ]
    },
    {
     "name": "stdout",
     "output_type": "stream",
     "text": [
      "352/352 [==============================] - 7s 21ms/step - loss: 1.9021 - accuracy: 0.3244 - val_loss: 1.8397 - val_accuracy: 0.3550\n",
      "Epoch 12/25\n",
      "352/352 [==============================] - ETA: 0s - loss: 1.8943 - accuracy: 0.3272INFO:tensorflow:Assets written to: ../Models/cifar10_ann/assets\n"
     ]
    },
    {
     "name": "stderr",
     "output_type": "stream",
     "text": [
      "INFO:tensorflow:Assets written to: ../Models/cifar10_ann/assets\n"
     ]
    },
    {
     "name": "stdout",
     "output_type": "stream",
     "text": [
      "352/352 [==============================] - 6s 17ms/step - loss: 1.8943 - accuracy: 0.3272 - val_loss: 1.8374 - val_accuracy: 0.3590\n",
      "Epoch 13/25\n",
      "349/352 [============================>.] - ETA: 0s - loss: 1.8986 - accuracy: 0.3271INFO:tensorflow:Assets written to: ../Models/cifar10_ann/assets\n"
     ]
    },
    {
     "name": "stderr",
     "output_type": "stream",
     "text": [
      "INFO:tensorflow:Assets written to: ../Models/cifar10_ann/assets\n"
     ]
    },
    {
     "name": "stdout",
     "output_type": "stream",
     "text": [
      "352/352 [==============================] - 4s 12ms/step - loss: 1.8982 - accuracy: 0.3271 - val_loss: 1.8341 - val_accuracy: 0.3606\n",
      "Epoch 14/25\n",
      "351/352 [============================>.] - ETA: 0s - loss: 1.8938 - accuracy: 0.3301INFO:tensorflow:Assets written to: ../Models/cifar10_ann/assets\n"
     ]
    },
    {
     "name": "stderr",
     "output_type": "stream",
     "text": [
      "INFO:tensorflow:Assets written to: ../Models/cifar10_ann/assets\n"
     ]
    },
    {
     "name": "stdout",
     "output_type": "stream",
     "text": [
      "352/352 [==============================] - 4s 11ms/step - loss: 1.8937 - accuracy: 0.3301 - val_loss: 1.8386 - val_accuracy: 0.3656\n",
      "Epoch 15/25\n",
      "352/352 [==============================] - 4s 10ms/step - loss: 1.8907 - accuracy: 0.3314 - val_loss: 1.8330 - val_accuracy: 0.3624\n",
      "Epoch 16/25\n",
      "352/352 [==============================] - 3s 9ms/step - loss: 1.8870 - accuracy: 0.3330 - val_loss: 1.8349 - val_accuracy: 0.3588\n",
      "Epoch 17/25\n",
      "352/352 [==============================] - 3s 10ms/step - loss: 1.8901 - accuracy: 0.3360 - val_loss: 1.8367 - val_accuracy: 0.3576\n",
      "Epoch 18/25\n",
      "352/352 [==============================] - 3s 10ms/step - loss: 1.8877 - accuracy: 0.3320 - val_loss: 1.8363 - val_accuracy: 0.3552\n",
      "Epoch 19/25\n",
      "352/352 [==============================] - 3s 10ms/step - loss: 1.8837 - accuracy: 0.3361 - val_loss: 1.8358 - val_accuracy: 0.3568\n",
      "Epoch 20/25\n",
      "352/352 [==============================] - 3s 10ms/step - loss: 1.8840 - accuracy: 0.3317 - val_loss: 1.8320 - val_accuracy: 0.3630\n",
      "Epoch 21/25\n",
      "352/352 [==============================] - 3s 10ms/step - loss: 1.8819 - accuracy: 0.3342 - val_loss: 1.8374 - val_accuracy: 0.3570\n",
      "Epoch 22/25\n",
      "352/352 [==============================] - 3s 10ms/step - loss: 1.8840 - accuracy: 0.3349 - val_loss: 1.8364 - val_accuracy: 0.3582\n",
      "Epoch 23/25\n",
      "352/352 [==============================] - 4s 11ms/step - loss: 1.8851 - accuracy: 0.3367 - val_loss: 1.8388 - val_accuracy: 0.3596\n",
      "Epoch 24/25\n",
      "352/352 [==============================] - 3s 9ms/step - loss: 1.8807 - accuracy: 0.3339 - val_loss: 1.8334 - val_accuracy: 0.3600\n",
      "Epoch 25/25\n",
      "352/352 [==============================] - 3s 9ms/step - loss: 1.8809 - accuracy: 0.3356 - val_loss: 1.8393 - val_accuracy: 0.3572\n"
     ]
    }
   ],
   "source": [
    "ann_checkpoint_callback = ModelCheckpoint(\n",
    "    filepath=\"../Models/cifar10_ann\", monitor=\"val_accuracy\", save_best_only=True\n",
    ")\n",
    "ann_tensorboard_callback = TensorBoard(\n",
    "    log_dir=\"../Logs/cifar10_ann_logs\", histogram_freq=1, write_images=True\n",
    ")\n",
    "ann_csvlogger_callback = CSVLogger(\"../Logs/cifar10_ann_logs.csv\")\n",
    "\n",
    "ann_history = ann.fit(\n",
    "    X_train,\n",
    "    y_train,\n",
    "    batch_size=128,\n",
    "    epochs=epochs,\n",
    "    validation_split=0.1,\n",
    "    callbacks=[\n",
    "        ann_checkpoint_callback,\n",
    "        ann_tensorboard_callback,\n",
    "        ann_csvlogger_callback,\n",
    "    ],\n",
    ")"
   ]
  },
  {
   "cell_type": "code",
   "execution_count": 16,
   "metadata": {},
   "outputs": [
    {
     "name": "stdout",
     "output_type": "stream",
     "text": [
      "Training loss: 1.950254192352295\n",
      "Validation loss: 1.864268832206726\n",
      "0.309470 Training accuracy with a standard deviation of 0.043334\n",
      "0.345288 Validation accuracy with a standard deviation of 0.024881\n"
     ]
    }
   ],
   "source": [
    "ann_train_loss = ann_history.history[\"loss\"]\n",
    "ann_train_acc = ann_history.history[\"accuracy\"]\n",
    "ann_val_acc = ann_history.history[\"val_accuracy\"]\n",
    "ann_val_loss = ann_history.history[\"val_loss\"]\n",
    "\n",
    "print(\"Training loss:\", np.mean(ann_train_loss))\n",
    "print(\"Validation loss:\", np.mean(ann_val_loss))\n",
    "print(\n",
    "    \"%f Training accuracy with a standard deviation of %f\"\n",
    "    % (np.mean(ann_train_acc), np.std(ann_train_acc))\n",
    ")\n",
    "print(\n",
    "    \"%f Validation accuracy with a standard deviation of %f\"\n",
    "    % (np.mean(ann_val_acc), np.std(ann_val_acc))\n",
    ")"
   ]
  },
  {
   "cell_type": "code",
   "execution_count": 17,
   "metadata": {},
   "outputs": [
    {
     "data": {
      "image/png": "[encoded data removed]",
      "text/plain": [
       "<Figure size 1200x1000 with 2 Axes>"
      ]
     },
     "metadata": {},
     "output_type": "display_data"
    }
   ],
   "source": [
    "epochs_range = range(epochs)\n",
    "\n",
    "# Plot the training and validation accuracy\n",
    "plt.figure(figsize=(12, 10))\n",
    "plt.subplot(1, 2, 1)\n",
    "plt.plot(epochs_range, ann_train_acc, label=\"Training Accuracy\")\n",
    "plt.plot(epochs_range, ann_val_acc, label=\"Validation Accuracy\")\n",
    "plt.legend(loc=\"best\")\n",
    "plt.title(\"Training and Validation Accuracy\")\n",
    "\n",
    "# Plot the training and validation loss\n",
    "plt.subplot(1, 2, 2)\n",
    "plt.plot(epochs_range, ann_train_loss, label=\"Training Loss\")\n",
    "plt.plot(epochs_range, ann_val_loss, label=\"Validation Loss\")\n",
    "plt.legend(loc=\"best\")\n",
    "plt.title(\"Training and Validation Loss\")\n",
    "\n",
    "plt.savefig(\"../Images/cifar10_ann_acc_loss.png\", bbox_inches=\"tight\")"
   ]
  },
  {
   "cell_type": "code",
   "execution_count": 18,
   "metadata": {},
   "outputs": [
    {
     "name": "stdout",
     "output_type": "stream",
     "text": [
      "313/313 [==============================] - 2s 8ms/step - loss: 1.8202 - accuracy: 0.3648\n",
      "Test loss: 1.8202128410339355\n",
      "Test accuracy: 0.36480000615119934\n"
     ]
    }
   ],
   "source": [
    "ann_test_loss, ann_test_accuracy = ann.evaluate(X_test, y_test)\n",
    "print(\"Test loss:\", ann_test_loss)\n",
    "print(\"Test accuracy:\", ann_test_accuracy)"
   ]
  },
  {
   "cell_type": "code",
   "execution_count": 19,
   "metadata": {},
   "outputs": [
    {
     "name": "stdout",
     "output_type": "stream",
     "text": [
      " 72/313 [=====>........................] - ETA: 0s"
     ]
    },
    {
     "name": "stderr",
     "output_type": "stream",
     "text": [
      "2023-08-04 21:06:00.727095: I tensorflow/core/grappler/optimizers/custom_graph_optimizer_registry.cc:114] Plugin optimizer for device_type GPU is enabled.\n"
     ]
    },
    {
     "name": "stdout",
     "output_type": "stream",
     "text": [
      "313/313 [==============================] - 1s 2ms/step\n"
     ]
    }
   ],
   "source": [
    "y_pred = ann.predict(X_test)"
   ]
  },
  {
   "cell_type": "code",
   "execution_count": null,
   "metadata": {},
   "outputs": [],
   "source": [
    "cnn = Sequential(\n",
    "    layers=[\n",
    "        Conv2D(\n",
    "            filters=64,\n",
    "            kernel_size=(3, 3),\n",
    "            activation=\"relu\",\n",
    "            padding=\"same\",\n",
    "            input_shape=(32, 32, 3),\n",
    "            name=\"conv_layer_1\",\n",
    "        ),\n",
    "        MaxPooling2D((2, 2), name=\"pooling_layer_1\"),\n",
    "        Dropout(0.2, name=\"dropout_layer_1\"),\n",
    "        Conv2D(\n",
    "            filters=128,\n",
    "            kernel_size=(3, 3),\n",
    "            activation=\"relu\",\n",
    "            padding=\"same\",\n",
    "            name=\"conv_layer_2\",\n",
    "        ),\n",
    "        MaxPooling2D((2, 2), name=\"pooling_layer_2\"),\n",
    "        Dropout(0.2, name=\"dropout_layer_2\"),\n",
    "        Flatten(name=\"flatten_layer\"),\n",
    "        Dense(128, activation=\"relu\", name=\"dense_layer_1\"),\n",
    "        Dense(10, activation=\"softmax\", name=\"final_layer\"),\n",
    "    ],\n",
    "    name=\"cnn\",\n",
    ")"
   ]
  },
  {
   "cell_type": "code",
   "execution_count": null,
   "metadata": {},
   "outputs": [],
   "source": [
    "cnn.layers"
   ]
  },
  {
   "cell_type": "code",
   "execution_count": null,
   "metadata": {},
   "outputs": [],
   "source": [
    "cnn.summary()"
   ]
  },
  {
   "cell_type": "code",
   "execution_count": null,
   "metadata": {},
   "outputs": [],
   "source": [
    "cnn.compile(\n",
    "    optimizer=optimizer, loss=\"sparse_categorical_crossentropy\", metrics=[\"accuracy\"]\n",
    ")"
   ]
  },
  {
   "cell_type": "code",
   "execution_count": null,
   "metadata": {},
   "outputs": [],
   "source": [
    "cnn_checkpoint_callback = ModelCheckpoint(\n",
    "    filepath=\"../Models/cifar10_cnn\",\n",
    "    monitor=\"val_accuracy\",\n",
    "    save_best_only=True,\n",
    ")\n",
    "cnn_tensorboard_callback = TensorBoard(\n",
    "    log_dir=\"../Logs/cifar10_cnn_logs\", histogram_freq=1, write_images=True\n",
    ")\n",
    "cnn_csvlogger_callback = CSVLogger(\"../Logs/cifar10_cnn_logs.csv\")\n",
    "\n",
    "cnn_history = cnn.fit(\n",
    "    X_train,\n",
    "    y_train,\n",
    "    batch_size=128,\n",
    "    epochs=epochs,\n",
    "    validation_split=0.1,\n",
    "    callbacks=[\n",
    "        cnn_checkpoint_callback,\n",
    "        cnn_tensorboard_callback,\n",
    "        cnn_csvlogger_callback,\n",
    "    ],\n",
    ")"
   ]
  },
  {
   "cell_type": "code",
   "execution_count": null,
   "metadata": {},
   "outputs": [],
   "source": [
    "cnn_train_acc = cnn_history.history[\"accuracy\"]\n",
    "cnn_val_acc = cnn_history.history[\"val_accuracy\"]\n",
    "cnn_train_loss = cnn_history.history[\"loss\"]\n",
    "cnn_val_loss = cnn_history.history[\"val_loss\"]\n",
    "\n",
    "\n",
    "print(\"Training loss:\", np.mean(cnn_train_loss))\n",
    "print(\"Validation loss:\", np.mean(cnn_val_loss))\n",
    "print(\n",
    "    \"%f Training accuracy with a standard deviation of %f\"\n",
    "    % (np.mean(cnn_train_acc), np.std(cnn_train_acc))\n",
    ")\n",
    "print(\n",
    "    \"%f Validation accuracy with a standard deviation of %f\"\n",
    "    % (np.mean(cnn_val_acc), np.std(cnn_val_acc))\n",
    ")"
   ]
  },
  {
   "cell_type": "code",
   "execution_count": null,
   "metadata": {},
   "outputs": [],
   "source": [
    "epochs_range = range(epochs)\n",
    "\n",
    "# Plot the training and validation accuracy\n",
    "plt.figure(figsize=(12, 10))\n",
    "plt.subplot(1, 2, 1)\n",
    "plt.plot(epochs_range, cnn_train_acc, label=\"Training Accuracy\")\n",
    "plt.plot(epochs_range, cnn_val_acc, label=\"Validation Accuracy\")\n",
    "plt.legend(loc=\"best\")\n",
    "plt.title(\"Training and Validation Accuracy\")\n",
    "\n",
    "# Plot the training and validation loss\n",
    "plt.subplot(1, 2, 2)\n",
    "plt.plot(epochs_range, cnn_train_loss, label=\"Training Loss\")\n",
    "plt.plot(epochs_range, cnn_val_loss, label=\"Validation Loss\")\n",
    "plt.legend(loc=\"best\")\n",
    "plt.title(\"Training and Validation Loss\")\n",
    "\n",
    "plt.savefig(\"../Images/cifar10_cnn_acc_loss.png\", bbox_inches=\"tight\")"
   ]
  },
  {
   "cell_type": "code",
   "execution_count": null,
   "metadata": {},
   "outputs": [],
   "source": [
    "cnn_test_loss, cnn_test_accuracy = cnn.evaluate(X_test, y_test)\n",
    "print(\"Test loss:\", cnn_test_loss)\n",
    "print(\"Test accuracy:\", cnn_test_accuracy)"
   ]
  },
  {
   "cell_type": "code",
   "execution_count": null,
   "metadata": {},
   "outputs": [],
   "source": [
    "y_pred = cnn.predict(X_test)"
   ]
  }
 ],
 "metadata": {
  "kernelspec": {
   "display_name": "Python 3 (ipykernel)",
   "language": "python",
   "name": "python3"
  },
  "language_info": {
   "codemirror_mode": {
    "name": "ipython",
    "version": 3
   },
   "file_extension": ".py",
   "mimetype": "text/x-python",
   "name": "python",
   "nbconvert_exporter": "python",
   "pygments_lexer": "ipython3",
   "version": "3.11.4"
  }
 },
 "nbformat": 4,
 "nbformat_minor": 4
}

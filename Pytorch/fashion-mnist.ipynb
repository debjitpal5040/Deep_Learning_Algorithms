{
 "cells": [
  {
   "cell_type": "code",
   "execution_count": 1,
   "metadata": {},
   "outputs": [
    {
     "name": "stderr",
     "output_type": "stream",
     "text": [
      "/Library/Frameworks/Python.framework/Versions/3.11/lib/python3.11/site-packages/torchvision/datapoints/__init__.py:12: UserWarning: The torchvision.datapoints and torchvision.transforms.v2 namespaces are still Beta. While we do not expect major breaking changes, some APIs may still change according to user feedback. Please submit any feedback you may have in this issue: https://github.com/pytorch/vision/issues/6753, and you can also check out https://github.com/pytorch/vision/issues/7319 to learn more about the APIs that we suspect might involve future changes. You can silence this warning by calling torchvision.disable_beta_transforms_warning().\n",
      "  warnings.warn(_BETA_TRANSFORMS_WARNING)\n",
      "/Library/Frameworks/Python.framework/Versions/3.11/lib/python3.11/site-packages/torchvision/transforms/v2/__init__.py:54: UserWarning: The torchvision.datapoints and torchvision.transforms.v2 namespaces are still Beta. While we do not expect major breaking changes, some APIs may still change according to user feedback. Please submit any feedback you may have in this issue: https://github.com/pytorch/vision/issues/6753, and you can also check out https://github.com/pytorch/vision/issues/7319 to learn more about the APIs that we suspect might involve future changes. You can silence this warning by calling torchvision.disable_beta_transforms_warning().\n",
      "  warnings.warn(_BETA_TRANSFORMS_WARNING)\n"
     ]
    }
   ],
   "source": [
    "import matplotlib.pyplot as plt\n",
    "import torch\n",
    "from torch.nn import Conv2d, CrossEntropyLoss, Linear, MaxPool2d, Module\n",
    "from torch.nn.functional import relu\n",
    "from torch.optim import Adam\n",
    "from torch.utils.data import DataLoader, random_split\n",
    "from torchvision.datasets import FashionMNIST\n",
    "from torchvision.transforms.v2 import Compose, ToTensor"
   ]
  },
  {
   "cell_type": "code",
   "execution_count": 2,
   "metadata": {},
   "outputs": [
    {
     "name": "stderr",
     "output_type": "stream",
     "text": [
      "/Library/Frameworks/Python.framework/Versions/3.11/lib/python3.11/site-packages/torchvision/transforms/v2/_deprecated.py:41: UserWarning: The transform `ToTensor()` is deprecated and will be removed in a future release. Instead, please use `transforms.Compose([transforms.ToImageTensor(), transforms.ConvertImageDtype()])`.\n",
      "  warnings.warn(\n"
     ]
    }
   ],
   "source": [
    "# Define the transformation to apply to the data\n",
    "transform = Compose([ToTensor()])\n",
    "\n",
    "# Load the Fashion-MNIST dataset\n",
    "trainset = FashionMNIST(\n",
    "    \"fashion-mnist_data\", download=True, train=True, transform=transform\n",
    ")\n",
    "testset = FashionMNIST(\n",
    "    \"fashion-mnist_data\", download=True, train=False, transform=transform\n",
    ")\n",
    "\n",
    "# Split the training set into training and validation sets\n",
    "train_size = int(0.8 * len(trainset))\n",
    "val_size = len(trainset) - train_size\n",
    "trainset, valset = random_split(trainset, [train_size, val_size])\n",
    "\n",
    "# Define the data loaders for the training, validation, and testing sets\n",
    "trainloader = DataLoader(trainset, batch_size=64, shuffle=True)\n",
    "valloader = DataLoader(valset, batch_size=64, shuffle=True)\n",
    "testloader = DataLoader(testset, batch_size=64, shuffle=True)"
   ]
  },
  {
   "cell_type": "code",
   "execution_count": 3,
   "metadata": {},
   "outputs": [
    {
     "data": {
      "image/png": "[encoded data removed]",
      "text/plain": [
       "<Figure size 640x480 with 1 Axes>"
      ]
     },
     "metadata": {},
     "output_type": "display_data"
    }
   ],
   "source": [
    "# Get a random image from the training set\n",
    "image, label = trainset[0]\n",
    "\n",
    "# Plot the image\n",
    "plt.imshow(image.squeeze(), cmap=\"gray\")\n",
    "plt.title(f\"Label: {label}\")\n",
    "plt.show()"
   ]
  },
  {
   "cell_type": "code",
   "execution_count": 4,
   "metadata": {},
   "outputs": [],
   "source": [
    "device = torch.device(\"mps\")"
   ]
  },
  {
   "cell_type": "code",
   "execution_count": 5,
   "metadata": {},
   "outputs": [],
   "source": [
    "class ConvNet(Module):\n",
    "    def __init__(self):\n",
    "        super(ConvNet, self).__init__()\n",
    "        self.conv1 = Conv2d(1, 32, kernel_size=3, stride=1, padding=1)\n",
    "        self.conv2 = Conv2d(32, 64, kernel_size=3, stride=1, padding=1)\n",
    "        self.pool = MaxPool2d(kernel_size=2, stride=2)\n",
    "        self.fc1 = Linear(64 * 7 * 7, 128)\n",
    "        self.fc2 = Linear(128, 10)\n",
    "\n",
    "    def forward(self, x):\n",
    "        x = relu(self.conv1(x))\n",
    "        x = self.pool(x)\n",
    "        x = relu(self.conv2(x))\n",
    "        x = self.pool(x)\n",
    "        x = x.view(-1, 64 * 7 * 7)\n",
    "        x = relu(self.fc1(x))\n",
    "        x = self.fc2(x)\n",
    "        return x"
   ]
  },
  {
   "cell_type": "code",
   "execution_count": 6,
   "metadata": {},
   "outputs": [],
   "source": [
    "model = ConvNet().to(device)"
   ]
  },
  {
   "cell_type": "code",
   "execution_count": 7,
   "metadata": {},
   "outputs": [
    {
     "name": "stdout",
     "output_type": "stream",
     "text": [
      "[Epoch 1, Batch 100] Train Loss: 0.914 Train Acc: 67.06% Val Loss: 0.577 Val Acc: 78.17%\n",
      "[Epoch 1, Batch 200] Train Loss: 0.558 Train Acc: 79.28% Val Loss: 0.495 Val Acc: 82.45%\n",
      "[Epoch 1, Batch 300] Train Loss: 0.466 Train Acc: 83.48% Val Loss: 0.434 Val Acc: 84.61%\n",
      "[Epoch 1, Batch 400] Train Loss: 0.434 Train Acc: 83.77% Val Loss: 0.411 Val Acc: 84.92%\n",
      "[Epoch 1, Batch 500] Train Loss: 0.412 Train Acc: 85.03% Val Loss: 0.435 Val Acc: 84.25%\n",
      "[Epoch 1, Batch 600] Train Loss: 0.363 Train Acc: 86.77% Val Loss: 0.356 Val Acc: 87.30%\n",
      "[Epoch 1, Batch 700] Train Loss: 0.366 Train Acc: 86.70% Val Loss: 0.336 Val Acc: 88.17%\n",
      "[Epoch 2, Batch 100] Train Loss: 0.331 Train Acc: 87.91% Val Loss: 0.362 Val Acc: 86.89%\n",
      "[Epoch 2, Batch 200] Train Loss: 0.315 Train Acc: 88.42% Val Loss: 0.355 Val Acc: 87.10%\n",
      "[Epoch 2, Batch 300] Train Loss: 0.318 Train Acc: 88.50% Val Loss: 0.352 Val Acc: 87.36%\n",
      "[Epoch 2, Batch 400] Train Loss: 0.319 Train Acc: 88.67% Val Loss: 0.298 Val Acc: 89.47%\n",
      "[Epoch 2, Batch 500] Train Loss: 0.297 Train Acc: 88.72% Val Loss: 0.317 Val Acc: 88.53%\n",
      "[Epoch 2, Batch 600] Train Loss: 0.294 Train Acc: 89.78% Val Loss: 0.310 Val Acc: 88.58%\n",
      "[Epoch 2, Batch 700] Train Loss: 0.307 Train Acc: 88.91% Val Loss: 0.302 Val Acc: 88.97%\n",
      "[Epoch 3, Batch 100] Train Loss: 0.265 Train Acc: 90.12% Val Loss: 0.292 Val Acc: 89.53%\n",
      "[Epoch 3, Batch 200] Train Loss: 0.281 Train Acc: 89.20% Val Loss: 0.281 Val Acc: 89.72%\n",
      "[Epoch 3, Batch 300] Train Loss: 0.272 Train Acc: 89.84% Val Loss: 0.266 Val Acc: 90.19%\n",
      "[Epoch 3, Batch 400] Train Loss: 0.262 Train Acc: 90.84% Val Loss: 0.286 Val Acc: 89.98%\n",
      "[Epoch 3, Batch 500] Train Loss: 0.264 Train Acc: 90.69% Val Loss: 0.306 Val Acc: 89.20%\n",
      "[Epoch 3, Batch 600] Train Loss: 0.260 Train Acc: 89.97% Val Loss: 0.286 Val Acc: 89.60%\n",
      "[Epoch 3, Batch 700] Train Loss: 0.251 Train Acc: 91.06% Val Loss: 0.268 Val Acc: 90.37%\n",
      "[Epoch 4, Batch 100] Train Loss: 0.238 Train Acc: 91.05% Val Loss: 0.268 Val Acc: 90.22%\n",
      "[Epoch 4, Batch 200] Train Loss: 0.239 Train Acc: 91.33% Val Loss: 0.256 Val Acc: 90.91%\n",
      "[Epoch 4, Batch 300] Train Loss: 0.226 Train Acc: 91.52% Val Loss: 0.247 Val Acc: 91.20%\n",
      "[Epoch 4, Batch 400] Train Loss: 0.233 Train Acc: 91.42% Val Loss: 0.257 Val Acc: 90.78%\n",
      "[Epoch 4, Batch 500] Train Loss: 0.240 Train Acc: 91.11% Val Loss: 0.250 Val Acc: 91.08%\n",
      "[Epoch 4, Batch 600] Train Loss: 0.234 Train Acc: 91.48% Val Loss: 0.258 Val Acc: 90.71%\n",
      "[Epoch 4, Batch 700] Train Loss: 0.247 Train Acc: 91.12% Val Loss: 0.247 Val Acc: 91.17%\n",
      "[Epoch 5, Batch 100] Train Loss: 0.202 Train Acc: 92.70% Val Loss: 0.269 Val Acc: 90.47%\n",
      "[Epoch 5, Batch 200] Train Loss: 0.206 Train Acc: 92.45% Val Loss: 0.248 Val Acc: 91.18%\n",
      "[Epoch 5, Batch 300] Train Loss: 0.223 Train Acc: 91.55% Val Loss: 0.260 Val Acc: 90.92%\n",
      "[Epoch 5, Batch 400] Train Loss: 0.207 Train Acc: 92.19% Val Loss: 0.245 Val Acc: 91.23%\n",
      "[Epoch 5, Batch 500] Train Loss: 0.203 Train Acc: 92.00% Val Loss: 0.244 Val Acc: 91.09%\n",
      "[Epoch 5, Batch 600] Train Loss: 0.214 Train Acc: 92.33% Val Loss: 0.257 Val Acc: 90.76%\n",
      "[Epoch 5, Batch 700] Train Loss: 0.204 Train Acc: 92.36% Val Loss: 0.236 Val Acc: 91.45%\n"
     ]
    }
   ],
   "source": [
    "# Define the loss function and optimizer\n",
    "criterion = CrossEntropyLoss()\n",
    "optimizer = Adam(model.parameters(), lr=0.001)\n",
    "num_epochs = 5\n",
    "# Train the model\n",
    "for epoch in range(num_epochs):\n",
    "    running_loss = 0.0\n",
    "    correct_train = 0\n",
    "    total_train = 0\n",
    "    for i, data in enumerate(trainloader, 0):\n",
    "        # Get the inputs\n",
    "        inputs, labels = data\n",
    "        inputs = inputs.to(\n",
    "            device, dtype=torch.float32\n",
    "        )  # convert input tensor to float32\n",
    "        labels = labels.to(device)\n",
    "\n",
    "        # Zero the parameter gradients\n",
    "        optimizer.zero_grad()\n",
    "\n",
    "        # Forward + backward + optimize\n",
    "        outputs = model(inputs)\n",
    "        loss = criterion(outputs, labels)\n",
    "        loss.backward()\n",
    "        optimizer.step()\n",
    "\n",
    "        # Compute training accuracy and loss\n",
    "        _, predicted = torch.max(outputs.data, 1)\n",
    "        total_train += labels.size(0)\n",
    "        correct_train += (predicted == labels).sum().item()\n",
    "        running_loss += loss.item()\n",
    "\n",
    "        # Print statistics\n",
    "        if i % 100 == 99:\n",
    "            # Compute validation accuracy and loss\n",
    "            correct_val = 0\n",
    "            total_val = 0\n",
    "            val_loss = 0.0\n",
    "            with torch.no_grad():\n",
    "                for data in valloader:\n",
    "                    images, labels = data\n",
    "                    images = images.to(\n",
    "                        device, dtype=torch.float32\n",
    "                    )  # convert input tensor to float32\n",
    "                    labels = labels.to(device)\n",
    "                    images, labels = data\n",
    "                    images = images.to(\n",
    "                        device, dtype=torch.float32\n",
    "                    )  # convert input tensor to float32\n",
    "                    labels = labels.to(device)\n",
    "                    outputs = model(images)\n",
    "                    val_loss += criterion(outputs, labels).item()\n",
    "                    _, predicted = torch.max(outputs.data, 1)\n",
    "                    total_val += labels.size(0)\n",
    "                    correct_val += (predicted == labels).sum().item()\n",
    "\n",
    "            print(\n",
    "                f\"[Epoch {epoch + 1}, Batch {i + 1}] \"\n",
    "                f\"Train Loss: {running_loss / 100:.3f} \"\n",
    "                f\"Train Acc: {100 * correct_train / total_train:.2f}% \"\n",
    "                f\"Val Loss: {val_loss / len(valloader):.3f} \"\n",
    "                f\"Val Acc: {100 * correct_val / total_val:.2f}%\"\n",
    "            )\n",
    "            running_loss = 0.0\n",
    "            correct_train = 0\n",
    "            total_train = 0"
   ]
  },
  {
   "cell_type": "code",
   "execution_count": 8,
   "metadata": {},
   "outputs": [
    {
     "name": "stdout",
     "output_type": "stream",
     "text": [
      "Test Loss: 0.267 Test Acc: 90.60%\n"
     ]
    }
   ],
   "source": [
    "# Compute test accuracy and loss\n",
    "correct_test = 0\n",
    "total_test = 0\n",
    "test_loss = 0.0\n",
    "with torch.no_grad():\n",
    "    for data in testloader:\n",
    "        images, labels = data\n",
    "        images, labels = images.to(device), labels.to(device)\n",
    "        outputs = model(images)\n",
    "        test_loss += criterion(outputs, labels).item()\n",
    "        _, predicted = torch.max(outputs.data, 1)\n",
    "        total_test += labels.size(0)\n",
    "        correct_test += (predicted == labels).sum().item()\n",
    "\n",
    "print(\n",
    "    f\"Test Loss: {test_loss / len(testloader):.3f} \"\n",
    "    f\"Test Acc: {100 * correct_test / total_test:.2f}%\"\n",
    ")"
   ]
  }
 ],
 "metadata": {
  "kernelspec": {
   "display_name": "Python 3",
   "language": "python",
   "name": "python3"
  },
  "language_info": {
   "codemirror_mode": {
    "name": "ipython",
    "version": 3
   },
   "file_extension": ".py",
   "mimetype": "text/x-python",
   "name": "python",
   "nbconvert_exporter": "python",
   "pygments_lexer": "ipython3",
   "version": "3.11.4"
  },
  "orig_nbformat": 4
 },
 "nbformat": 4,
 "nbformat_minor": 2
}

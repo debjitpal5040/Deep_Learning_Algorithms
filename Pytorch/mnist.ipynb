{
 "cells": [
  {
   "cell_type": "code",
   "execution_count": 1,
   "metadata": {},
   "outputs": [
    {
     "name": "stderr",
     "output_type": "stream",
     "text": [
      "/Library/Frameworks/Python.framework/Versions/3.11/lib/python3.11/site-packages/torchvision/datapoints/__init__.py:12: UserWarning: The torchvision.datapoints and torchvision.transforms.v2 namespaces are still Beta. While we do not expect major breaking changes, some APIs may still change according to user feedback. Please submit any feedback you may have in this issue: https://github.com/pytorch/vision/issues/6753, and you can also check out https://github.com/pytorch/vision/issues/7319 to learn more about the APIs that we suspect might involve future changes. You can silence this warning by calling torchvision.disable_beta_transforms_warning().\n",
      "  warnings.warn(_BETA_TRANSFORMS_WARNING)\n",
      "/Library/Frameworks/Python.framework/Versions/3.11/lib/python3.11/site-packages/torchvision/transforms/v2/__init__.py:54: UserWarning: The torchvision.datapoints and torchvision.transforms.v2 namespaces are still Beta. While we do not expect major breaking changes, some APIs may still change according to user feedback. Please submit any feedback you may have in this issue: https://github.com/pytorch/vision/issues/6753, and you can also check out https://github.com/pytorch/vision/issues/7319 to learn more about the APIs that we suspect might involve future changes. You can silence this warning by calling torchvision.disable_beta_transforms_warning().\n",
      "  warnings.warn(_BETA_TRANSFORMS_WARNING)\n"
     ]
    }
   ],
   "source": [
    "import matplotlib.pyplot as plt\n",
    "import torch\n",
    "from torch.nn import Conv2d, CrossEntropyLoss, Linear, MaxPool2d, Module\n",
    "from torch.nn.functional import relu\n",
    "from torch.optim import Adam\n",
    "from torch.utils.data import DataLoader, random_split\n",
    "from torchvision.datasets import MNIST\n",
    "from torchvision.transforms.v2 import Compose, ToTensor"
   ]
  },
  {
   "cell_type": "code",
   "execution_count": 2,
   "metadata": {},
   "outputs": [
    {
     "name": "stderr",
     "output_type": "stream",
     "text": [
      "/Library/Frameworks/Python.framework/Versions/3.11/lib/python3.11/site-packages/torchvision/transforms/v2/_deprecated.py:41: UserWarning: The transform `ToTensor()` is deprecated and will be removed in a future release. Instead, please use `transforms.Compose([transforms.ToImageTensor(), transforms.ConvertImageDtype()])`.\n",
      "  warnings.warn(\n"
     ]
    }
   ],
   "source": [
    "# Define the transformation to apply to the data\n",
    "transform = Compose([ToTensor()])\n",
    "\n",
    "# Load the MNIST dataset\n",
    "trainset = MNIST(\"mnist_data\", download=True, train=True, transform=transform)\n",
    "testset = MNIST(\"mnist_data\", download=True, train=False, transform=transform)\n",
    "\n",
    "# Split the training set into training and validation sets\n",
    "train_size = int(0.8 * len(trainset))\n",
    "val_size = len(trainset) - train_size\n",
    "trainset, valset = random_split(trainset, [train_size, val_size])\n",
    "\n",
    "# Define the data loaders for the training, validation, and testing sets\n",
    "trainloader = DataLoader(trainset, batch_size=64, shuffle=True)\n",
    "valloader = DataLoader(valset, batch_size=64, shuffle=True)\n",
    "testloader = DataLoader(testset, batch_size=64, shuffle=True)"
   ]
  },
  {
   "cell_type": "code",
   "execution_count": 3,
   "metadata": {},
   "outputs": [
    {
     "data": {
      "image/png": "[encoded data removed]",
      "text/plain": [
       "<Figure size 640x480 with 1 Axes>"
      ]
     },
     "metadata": {},
     "output_type": "display_data"
    }
   ],
   "source": [
    "# Get a random image from the training set\n",
    "image, label = trainset[0]\n",
    "\n",
    "# Plot the image\n",
    "plt.imshow(image.squeeze(), cmap=\"gray\")\n",
    "plt.title(f\"Label: {label}\")\n",
    "plt.show()"
   ]
  },
  {
   "cell_type": "code",
   "execution_count": 4,
   "metadata": {},
   "outputs": [],
   "source": [
    "device = torch.device(\"mps\")"
   ]
  },
  {
   "cell_type": "code",
   "execution_count": 5,
   "metadata": {},
   "outputs": [],
   "source": [
    "class ConvNet(Module):\n",
    "    def __init__(self):\n",
    "        super(ConvNet, self).__init__()\n",
    "        self.conv1 = Conv2d(1, 32, kernel_size=3, stride=1, padding=1)\n",
    "        self.conv2 = Conv2d(32, 64, kernel_size=3, stride=1, padding=1)\n",
    "        self.pool = MaxPool2d(kernel_size=2, stride=2)\n",
    "        self.fc1 = Linear(64 * 7 * 7, 128)\n",
    "        self.fc2 = Linear(128, 10)\n",
    "\n",
    "    def forward(self, x):\n",
    "        x = relu(self.conv1(x))\n",
    "        x = self.pool(x)\n",
    "        x = relu(self.conv2(x))\n",
    "        x = self.pool(x)\n",
    "        x = x.view(-1, 64 * 7 * 7)\n",
    "        x = relu(self.fc1(x))\n",
    "        x = self.fc2(x)\n",
    "        return x"
   ]
  },
  {
   "cell_type": "code",
   "execution_count": 6,
   "metadata": {},
   "outputs": [],
   "source": [
    "model = ConvNet().to(device)"
   ]
  },
  {
   "cell_type": "code",
   "execution_count": 7,
   "metadata": {},
   "outputs": [
    {
     "name": "stdout",
     "output_type": "stream",
     "text": [
      "[Epoch 1, Batch 100] Train Loss: 0.720 Train Acc: 78.62% Val Loss: 0.294 Val Acc: 91.42%\n",
      "[Epoch 1, Batch 200] Train Loss: 0.228 Train Acc: 93.38% Val Loss: 0.234 Val Acc: 91.97%\n",
      "[Epoch 1, Batch 300] Train Loss: 0.149 Train Acc: 95.52% Val Loss: 0.125 Val Acc: 96.04%\n",
      "[Epoch 1, Batch 400] Train Loss: 0.113 Train Acc: 96.58% Val Loss: 0.109 Val Acc: 96.69%\n",
      "[Epoch 1, Batch 500] Train Loss: 0.099 Train Acc: 97.00% Val Loss: 0.096 Val Acc: 96.99%\n",
      "[Epoch 1, Batch 600] Train Loss: 0.078 Train Acc: 97.61% Val Loss: 0.082 Val Acc: 97.65%\n",
      "[Epoch 1, Batch 700] Train Loss: 0.076 Train Acc: 97.69% Val Loss: 0.073 Val Acc: 97.80%\n",
      "[Epoch 2, Batch 100] Train Loss: 0.065 Train Acc: 97.86% Val Loss: 0.067 Val Acc: 97.95%\n",
      "[Epoch 2, Batch 200] Train Loss: 0.060 Train Acc: 98.12% Val Loss: 0.074 Val Acc: 97.66%\n",
      "[Epoch 2, Batch 300] Train Loss: 0.059 Train Acc: 98.25% Val Loss: 0.069 Val Acc: 97.97%\n",
      "[Epoch 2, Batch 400] Train Loss: 0.051 Train Acc: 98.47% Val Loss: 0.056 Val Acc: 98.26%\n",
      "[Epoch 2, Batch 500] Train Loss: 0.055 Train Acc: 98.42% Val Loss: 0.067 Val Acc: 97.82%\n",
      "[Epoch 2, Batch 600] Train Loss: 0.052 Train Acc: 98.34% Val Loss: 0.054 Val Acc: 98.41%\n",
      "[Epoch 2, Batch 700] Train Loss: 0.048 Train Acc: 98.42% Val Loss: 0.049 Val Acc: 98.52%\n",
      "[Epoch 3, Batch 100] Train Loss: 0.044 Train Acc: 98.64% Val Loss: 0.071 Val Acc: 97.86%\n",
      "[Epoch 3, Batch 200] Train Loss: 0.042 Train Acc: 98.58% Val Loss: 0.061 Val Acc: 98.01%\n",
      "[Epoch 3, Batch 300] Train Loss: 0.042 Train Acc: 98.62% Val Loss: 0.053 Val Acc: 98.42%\n",
      "[Epoch 3, Batch 400] Train Loss: 0.038 Train Acc: 98.89% Val Loss: 0.053 Val Acc: 98.34%\n",
      "[Epoch 3, Batch 500] Train Loss: 0.029 Train Acc: 99.08% Val Loss: 0.045 Val Acc: 98.59%\n",
      "[Epoch 3, Batch 600] Train Loss: 0.042 Train Acc: 98.72% Val Loss: 0.041 Val Acc: 98.77%\n",
      "[Epoch 3, Batch 700] Train Loss: 0.033 Train Acc: 98.98% Val Loss: 0.048 Val Acc: 98.50%\n",
      "[Epoch 4, Batch 100] Train Loss: 0.022 Train Acc: 99.27% Val Loss: 0.048 Val Acc: 98.62%\n",
      "[Epoch 4, Batch 200] Train Loss: 0.024 Train Acc: 99.31% Val Loss: 0.046 Val Acc: 98.49%\n",
      "[Epoch 4, Batch 300] Train Loss: 0.030 Train Acc: 98.98% Val Loss: 0.047 Val Acc: 98.58%\n",
      "[Epoch 4, Batch 400] Train Loss: 0.026 Train Acc: 99.11% Val Loss: 0.050 Val Acc: 98.47%\n",
      "[Epoch 4, Batch 500] Train Loss: 0.029 Train Acc: 99.00% Val Loss: 0.048 Val Acc: 98.54%\n",
      "[Epoch 4, Batch 600] Train Loss: 0.024 Train Acc: 99.20% Val Loss: 0.055 Val Acc: 98.55%\n",
      "[Epoch 4, Batch 700] Train Loss: 0.035 Train Acc: 98.83% Val Loss: 0.053 Val Acc: 98.33%\n",
      "[Epoch 5, Batch 100] Train Loss: 0.015 Train Acc: 99.59% Val Loss: 0.044 Val Acc: 98.69%\n",
      "[Epoch 5, Batch 200] Train Loss: 0.023 Train Acc: 99.38% Val Loss: 0.049 Val Acc: 98.65%\n",
      "[Epoch 5, Batch 300] Train Loss: 0.024 Train Acc: 99.16% Val Loss: 0.048 Val Acc: 98.62%\n",
      "[Epoch 5, Batch 400] Train Loss: 0.029 Train Acc: 99.09% Val Loss: 0.039 Val Acc: 98.88%\n",
      "[Epoch 5, Batch 500] Train Loss: 0.025 Train Acc: 99.28% Val Loss: 0.046 Val Acc: 98.53%\n",
      "[Epoch 5, Batch 600] Train Loss: 0.022 Train Acc: 99.19% Val Loss: 0.036 Val Acc: 98.87%\n",
      "[Epoch 5, Batch 700] Train Loss: 0.021 Train Acc: 99.30% Val Loss: 0.045 Val Acc: 98.72%\n"
     ]
    }
   ],
   "source": [
    "# Define the loss function and optimizer\n",
    "criterion = CrossEntropyLoss()\n",
    "optimizer = Adam(model.parameters(), lr=0.001)\n",
    "num_epochs = 5\n",
    "# Train the model\n",
    "for epoch in range(num_epochs):\n",
    "    running_loss = 0.0\n",
    "    correct_train = 0\n",
    "    total_train = 0\n",
    "    for i, data in enumerate(trainloader, 0):\n",
    "        # Get the inputs\n",
    "        inputs, labels = data\n",
    "        inputs = inputs.to(\n",
    "            device, dtype=torch.float32\n",
    "        )  # convert input tensor to float32\n",
    "        labels = labels.to(device)\n",
    "\n",
    "        # Zero the parameter gradients\n",
    "        optimizer.zero_grad()\n",
    "\n",
    "        # Forward + backward + optimize\n",
    "        outputs = model(inputs)\n",
    "        loss = criterion(outputs, labels)\n",
    "        loss.backward()\n",
    "        optimizer.step()\n",
    "\n",
    "        # Compute training accuracy and loss\n",
    "        _, predicted = torch.max(outputs.data, 1)\n",
    "        total_train += labels.size(0)\n",
    "        correct_train += (predicted == labels).sum().item()\n",
    "        running_loss += loss.item()\n",
    "\n",
    "        # Print statistics\n",
    "        if i % 100 == 99:\n",
    "            # Compute validation accuracy and loss\n",
    "            correct_val = 0\n",
    "            total_val = 0\n",
    "            val_loss = 0.0\n",
    "            with torch.no_grad():\n",
    "                for data in valloader:\n",
    "                    images, labels = data\n",
    "                    images = images.to(\n",
    "                        device, dtype=torch.float32\n",
    "                    )  # convert input tensor to float32\n",
    "                    labels = labels.to(device)\n",
    "                    images, labels = data\n",
    "                    images = images.to(\n",
    "                        device, dtype=torch.float32\n",
    "                    )  # convert input tensor to float32\n",
    "                    labels = labels.to(device)\n",
    "                    outputs = model(images)\n",
    "                    val_loss += criterion(outputs, labels).item()\n",
    "                    _, predicted = torch.max(outputs.data, 1)\n",
    "                    total_val += labels.size(0)\n",
    "                    correct_val += (predicted == labels).sum().item()\n",
    "\n",
    "            print(\n",
    "                f\"[Epoch {epoch + 1}, Batch {i + 1}] \"\n",
    "                f\"Train Loss: {running_loss / 100:.3f} \"\n",
    "                f\"Train Acc: {100 * correct_train / total_train:.2f}% \"\n",
    "                f\"Val Loss: {val_loss / len(valloader):.3f} \"\n",
    "                f\"Val Acc: {100 * correct_val / total_val:.2f}%\"\n",
    "            )\n",
    "            running_loss = 0.0\n",
    "            correct_train = 0\n",
    "            total_train = 0"
   ]
  },
  {
   "cell_type": "code",
   "execution_count": 8,
   "metadata": {},
   "outputs": [
    {
     "name": "stdout",
     "output_type": "stream",
     "text": [
      "Test Loss: 0.038 Test Acc: 98.75%\n"
     ]
    }
   ],
   "source": [
    "# Compute test accuracy and loss\n",
    "correct_test = 0\n",
    "total_test = 0\n",
    "test_loss = 0.0\n",
    "with torch.no_grad():\n",
    "    for data in testloader:\n",
    "        images, labels = data\n",
    "        images, labels = images.to(device), labels.to(device)\n",
    "        outputs = model(images)\n",
    "        test_loss += criterion(outputs, labels).item()\n",
    "        _, predicted = torch.max(outputs.data, 1)\n",
    "        total_test += labels.size(0)\n",
    "        correct_test += (predicted == labels).sum().item()\n",
    "\n",
    "print(\n",
    "    f\"Test Loss: {test_loss / len(testloader):.3f} \"\n",
    "    f\"Test Acc: {100 * correct_test / total_test:.2f}%\"\n",
    ")"
   ]
  }
 ],
 "metadata": {
  "kernelspec": {
   "display_name": "Python 3",
   "language": "python",
   "name": "python3"
  },
  "language_info": {
   "codemirror_mode": {
    "name": "ipython",
    "version": 3
   },
   "file_extension": ".py",
   "mimetype": "text/x-python",
   "name": "python",
   "nbconvert_exporter": "python",
   "pygments_lexer": "ipython3",
   "version": "3.11.4"
  },
  "orig_nbformat": 4
 },
 "nbformat": 4,
 "nbformat_minor": 2
}

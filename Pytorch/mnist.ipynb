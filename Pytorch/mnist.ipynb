{
 "cells": [
  {
   "cell_type": "code",
   "execution_count": 25,
   "metadata": {},
   "outputs": [],
   "source": [
    "import matplotlib.pyplot as plt\n",
    "import torch\n",
    "from torch.nn import Conv2d, CrossEntropyLoss, Linear, MaxPool2d, Module\n",
    "from torch.nn.functional import relu\n",
    "from torch.optim import Adam\n",
    "from torch.utils.data import DataLoader, random_split\n",
    "from torchvision.datasets import MNIST\n",
    "from torchvision.transforms import Compose, ToTensor"
   ]
  },
  {
   "cell_type": "code",
   "execution_count": 26,
   "metadata": {},
   "outputs": [],
   "source": [
    "# Define the transformation to apply to the data\n",
    "transform = Compose([ToTensor()])\n",
    "\n",
    "# Load the MNIST dataset\n",
    "trainset = MNIST(\"mnist_data\", download=True, train=True, transform=transform)\n",
    "testset = MNIST(\"mnist_data\", download=True, train=False, transform=transform)\n",
    "\n",
    "# Split the training set into training and validation sets\n",
    "train_size = int(0.8 * len(trainset))\n",
    "val_size = len(trainset) - train_size\n",
    "trainset, valset = random_split(trainset, [train_size, val_size])\n",
    "\n",
    "# Define the data loaders for the training, validation, and testing sets\n",
    "trainloader = DataLoader(trainset, batch_size=64, shuffle=True)\n",
    "valloader = DataLoader(valset, batch_size=64, shuffle=True)\n",
    "testloader = DataLoader(testset, batch_size=64, shuffle=True)"
   ]
  },
  {
   "cell_type": "code",
   "execution_count": 27,
   "metadata": {},
   "outputs": [
    {
     "data": {
      "image/png": "[encoded data removed]",
      "text/plain": [
       "<Figure size 640x480 with 1 Axes>"
      ]
     },
     "metadata": {},
     "output_type": "display_data"
    }
   ],
   "source": [
    "# Get a random image from the training set\n",
    "image, label = trainset[0]\n",
    "\n",
    "# Plot the image\n",
    "plt.imshow(image.squeeze(), cmap=\"gray\")\n",
    "plt.title(f\"Label: {label}\")\n",
    "plt.show()"
   ]
  },
  {
   "cell_type": "code",
   "execution_count": 28,
   "metadata": {},
   "outputs": [],
   "source": [
    "device = torch.device(\"mps\")"
   ]
  },
  {
   "cell_type": "code",
   "execution_count": 29,
   "metadata": {},
   "outputs": [],
   "source": [
    "class ConvNet(Module):\n",
    "    def __init__(self):\n",
    "        super(ConvNet, self).__init__()\n",
    "        self.conv1 = Conv2d(1, 32, kernel_size=3, stride=1, padding=1)\n",
    "        self.conv2 = Conv2d(32, 64, kernel_size=3, stride=1, padding=1)\n",
    "        self.pool = MaxPool2d(kernel_size=2, stride=2)\n",
    "        self.fc1 = Linear(64 * 7 * 7, 128)\n",
    "        self.fc2 = Linear(128, 10)\n",
    "\n",
    "    def forward(self, x):\n",
    "        x = relu(self.conv1(x))\n",
    "        x = self.pool(x)\n",
    "        x = relu(self.conv2(x))\n",
    "        x = self.pool(x)\n",
    "        x = x.view(-1, 64 * 7 * 7)\n",
    "        x = relu(self.fc1(x))\n",
    "        x = self.fc2(x)\n",
    "        return x"
   ]
  },
  {
   "cell_type": "code",
   "execution_count": 30,
   "metadata": {},
   "outputs": [],
   "source": [
    "model = ConvNet().to(device)"
   ]
  },
  {
   "cell_type": "code",
   "execution_count": 31,
   "metadata": {},
   "outputs": [
    {
     "name": "stdout",
     "output_type": "stream",
     "text": [
      "[Epoch 1, Batch 100] Train Loss: 0.720 Train Acc: 78.39% Val Loss: 0.299 Val Acc: 90.86%\n",
      "[Epoch 1, Batch 200] Train Loss: 0.205 Train Acc: 93.73% Val Loss: 0.164 Val Acc: 95.17%\n",
      "[Epoch 1, Batch 300] Train Loss: 0.133 Train Acc: 95.94% Val Loss: 0.120 Val Acc: 96.67%\n",
      "[Epoch 1, Batch 400] Train Loss: 0.111 Train Acc: 96.75% Val Loss: 0.101 Val Acc: 96.93%\n",
      "[Epoch 1, Batch 500] Train Loss: 0.109 Train Acc: 96.83% Val Loss: 0.088 Val Acc: 97.26%\n",
      "[Epoch 1, Batch 600] Train Loss: 0.085 Train Acc: 97.50% Val Loss: 0.079 Val Acc: 97.57%\n",
      "[Epoch 1, Batch 700] Train Loss: 0.071 Train Acc: 97.67% Val Loss: 0.070 Val Acc: 97.86%\n",
      "[Epoch 2, Batch 100] Train Loss: 0.059 Train Acc: 98.16% Val Loss: 0.107 Val Acc: 96.90%\n",
      "[Epoch 2, Batch 200] Train Loss: 0.076 Train Acc: 97.86% Val Loss: 0.064 Val Acc: 98.04%\n",
      "[Epoch 2, Batch 300] Train Loss: 0.058 Train Acc: 98.22% Val Loss: 0.071 Val Acc: 97.85%\n",
      "[Epoch 2, Batch 400] Train Loss: 0.049 Train Acc: 98.50% Val Loss: 0.058 Val Acc: 98.29%\n",
      "[Epoch 2, Batch 500] Train Loss: 0.053 Train Acc: 98.23% Val Loss: 0.068 Val Acc: 97.95%\n",
      "[Epoch 2, Batch 600] Train Loss: 0.045 Train Acc: 98.67% Val Loss: 0.067 Val Acc: 97.90%\n",
      "[Epoch 2, Batch 700] Train Loss: 0.051 Train Acc: 98.53% Val Loss: 0.050 Val Acc: 98.44%\n",
      "[Epoch 3, Batch 100] Train Loss: 0.035 Train Acc: 98.91% Val Loss: 0.059 Val Acc: 98.35%\n",
      "[Epoch 3, Batch 200] Train Loss: 0.041 Train Acc: 98.64% Val Loss: 0.058 Val Acc: 98.33%\n",
      "[Epoch 3, Batch 300] Train Loss: 0.035 Train Acc: 98.77% Val Loss: 0.061 Val Acc: 98.21%\n",
      "[Epoch 3, Batch 400] Train Loss: 0.037 Train Acc: 98.86% Val Loss: 0.050 Val Acc: 98.39%\n",
      "[Epoch 3, Batch 500] Train Loss: 0.042 Train Acc: 98.52% Val Loss: 0.054 Val Acc: 98.39%\n",
      "[Epoch 3, Batch 600] Train Loss: 0.041 Train Acc: 98.91% Val Loss: 0.050 Val Acc: 98.45%\n",
      "[Epoch 3, Batch 700] Train Loss: 0.035 Train Acc: 98.83% Val Loss: 0.051 Val Acc: 98.36%\n",
      "[Epoch 4, Batch 100] Train Loss: 0.027 Train Acc: 99.19% Val Loss: 0.043 Val Acc: 98.71%\n",
      "[Epoch 4, Batch 200] Train Loss: 0.026 Train Acc: 99.25% Val Loss: 0.048 Val Acc: 98.48%\n",
      "[Epoch 4, Batch 300] Train Loss: 0.025 Train Acc: 99.16% Val Loss: 0.046 Val Acc: 98.55%\n",
      "[Epoch 4, Batch 400] Train Loss: 0.033 Train Acc: 99.05% Val Loss: 0.044 Val Acc: 98.62%\n",
      "[Epoch 4, Batch 500] Train Loss: 0.028 Train Acc: 99.17% Val Loss: 0.045 Val Acc: 98.60%\n",
      "[Epoch 4, Batch 600] Train Loss: 0.026 Train Acc: 99.22% Val Loss: 0.045 Val Acc: 98.61%\n",
      "[Epoch 4, Batch 700] Train Loss: 0.031 Train Acc: 98.91% Val Loss: 0.044 Val Acc: 98.59%\n",
      "[Epoch 5, Batch 100] Train Loss: 0.022 Train Acc: 99.16% Val Loss: 0.047 Val Acc: 98.52%\n",
      "[Epoch 5, Batch 200] Train Loss: 0.021 Train Acc: 99.28% Val Loss: 0.042 Val Acc: 98.67%\n",
      "[Epoch 5, Batch 300] Train Loss: 0.020 Train Acc: 99.38% Val Loss: 0.040 Val Acc: 98.81%\n",
      "[Epoch 5, Batch 400] Train Loss: 0.021 Train Acc: 99.27% Val Loss: 0.038 Val Acc: 98.65%\n",
      "[Epoch 5, Batch 500] Train Loss: 0.019 Train Acc: 99.30% Val Loss: 0.050 Val Acc: 98.53%\n",
      "[Epoch 5, Batch 600] Train Loss: 0.025 Train Acc: 99.09% Val Loss: 0.044 Val Acc: 98.72%\n",
      "[Epoch 5, Batch 700] Train Loss: 0.025 Train Acc: 99.11% Val Loss: 0.043 Val Acc: 98.70%\n"
     ]
    }
   ],
   "source": [
    "# Define the loss function and optimizer\n",
    "criterion = CrossEntropyLoss()\n",
    "optimizer = Adam(model.parameters(), lr=0.001)\n",
    "num_epochs = 5\n",
    "# Train the model\n",
    "for epoch in range(num_epochs):\n",
    "    running_loss = 0.0\n",
    "    correct_train = 0\n",
    "    total_train = 0\n",
    "    for i, data in enumerate(trainloader, 0):\n",
    "        # Get the inputs\n",
    "        inputs, labels = data\n",
    "        inputs = inputs.to(\n",
    "            device, dtype=torch.float32\n",
    "        )  # convert input tensor to float32\n",
    "        labels = labels.to(device)\n",
    "\n",
    "        # Zero the parameter gradients\n",
    "        optimizer.zero_grad()\n",
    "\n",
    "        # Forward + backward + optimize\n",
    "        outputs = model(inputs)\n",
    "        loss = criterion(outputs, labels)\n",
    "        loss.backward()\n",
    "        optimizer.step()\n",
    "\n",
    "        # Compute training accuracy and loss\n",
    "        _, predicted = torch.max(outputs.data, 1)\n",
    "        total_train += labels.size(0)\n",
    "        correct_train += (predicted == labels).sum().item()\n",
    "        running_loss += loss.item()\n",
    "\n",
    "        # Print statistics\n",
    "        if i % 100 == 99:\n",
    "            # Compute validation accuracy and loss\n",
    "            correct_val = 0\n",
    "            total_val = 0\n",
    "            val_loss = 0.0\n",
    "            with torch.no_grad():\n",
    "                for data in valloader:\n",
    "                    images, labels = data\n",
    "                    images = images.to(\n",
    "                        device, dtype=torch.float32\n",
    "                    )  # convert input tensor to float32\n",
    "                    labels = labels.to(device)\n",
    "                    images, labels = data\n",
    "                    images = images.to(\n",
    "                        device, dtype=torch.float32\n",
    "                    )  # convert input tensor to float32\n",
    "                    labels = labels.to(device)\n",
    "                    outputs = model(images)\n",
    "                    val_loss += criterion(outputs, labels).item()\n",
    "                    _, predicted = torch.max(outputs.data, 1)\n",
    "                    total_val += labels.size(0)\n",
    "                    correct_val += (predicted == labels).sum().item()\n",
    "\n",
    "            print(\n",
    "                f\"[Epoch {epoch + 1}, Batch {i + 1}] \"\n",
    "                f\"Train Loss: {running_loss / 100:.3f} \"\n",
    "                f\"Train Acc: {100 * correct_train / total_train:.2f}% \"\n",
    "                f\"Val Loss: {val_loss / len(valloader):.3f} \"\n",
    "                f\"Val Acc: {100 * correct_val / total_val:.2f}%\"\n",
    "            )\n",
    "            running_loss = 0.0\n",
    "            correct_train = 0\n",
    "            total_train = 0"
   ]
  },
  {
   "cell_type": "code",
   "execution_count": 32,
   "metadata": {},
   "outputs": [
    {
     "name": "stdout",
     "output_type": "stream",
     "text": [
      "Test Loss: 0.032 Test Acc: 99.03%\n"
     ]
    }
   ],
   "source": [
    "# Compute test accuracy and loss\n",
    "correct_test = 0\n",
    "total_test = 0\n",
    "test_loss = 0.0\n",
    "with torch.no_grad():\n",
    "    for data in testloader:\n",
    "        images, labels = data\n",
    "        images, labels = images.to(device), labels.to(device)\n",
    "        outputs = model(images)\n",
    "        test_loss += criterion(outputs, labels).item()\n",
    "        _, predicted = torch.max(outputs.data, 1)\n",
    "        total_test += labels.size(0)\n",
    "        correct_test += (predicted == labels).sum().item()\n",
    "\n",
    "print(\n",
    "    f\"Test Loss: {test_loss / len(testloader):.3f} \"\n",
    "    f\"Test Acc: {100 * correct_test / total_test:.2f}%\"\n",
    ")"
   ]
  }
 ],
 "metadata": {
  "kernelspec": {
   "display_name": "Python 3",
   "language": "python",
   "name": "python3"
  },
  "language_info": {
   "codemirror_mode": {
    "name": "ipython",
    "version": 3
   },
   "file_extension": ".py",
   "mimetype": "text/x-python",
   "name": "python",
   "nbconvert_exporter": "python",
   "pygments_lexer": "ipython3",
   "version": "3.11.4"
  },
  "orig_nbformat": 4
 },
 "nbformat": 4,
 "nbformat_minor": 2
}
